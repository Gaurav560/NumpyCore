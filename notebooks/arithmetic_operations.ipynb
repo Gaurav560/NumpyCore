{
 "cells": [
  {
   "metadata": {},
   "cell_type": "markdown",
   "source": "### All the usual arithmetic operators (+, -, *, /, //, **, etc.) can be used with ndarrays. They apply elementwise. but with a condition. The arrays must have the same shape. If they do not, NumPy will apply the broadcasting rules.",
   "id": "95e2ebb94688ea0f"
  },
  {
   "cell_type": "code",
   "id": "initial_id",
   "metadata": {
    "collapsed": true,
    "ExecuteTime": {
     "end_time": "2024-12-09T08:37:45.634412Z",
     "start_time": "2024-12-09T08:37:45.606039Z"
    }
   },
   "source": [
    "import numpy as np\n",
    "\n",
    "arr_1=np.array([1,2,3])\n",
    "arr_2=np.array([4,5,6])\n",
    "#addition\n",
    "arr_1+arr_2"
   ],
   "outputs": [
    {
     "data": {
      "text/plain": [
       "array([5, 7, 9])"
      ]
     },
     "execution_count": 1,
     "metadata": {},
     "output_type": "execute_result"
    }
   ],
   "execution_count": 1
  },
  {
   "metadata": {
    "ExecuteTime": {
     "end_time": "2024-12-09T08:38:09.502735Z",
     "start_time": "2024-12-09T08:38:09.500123Z"
    }
   },
   "cell_type": "code",
   "source": [
    "#subtraction\n",
    "arr_1-arr_2"
   ],
   "id": "d51233607985fbf0",
   "outputs": [
    {
     "data": {
      "text/plain": [
       "array([-3, -3, -3])"
      ]
     },
     "execution_count": 3,
     "metadata": {},
     "output_type": "execute_result"
    }
   ],
   "execution_count": 3
  },
  {
   "metadata": {
    "ExecuteTime": {
     "end_time": "2024-12-09T08:40:02.789790Z",
     "start_time": "2024-12-09T08:40:02.786515Z"
    }
   },
   "cell_type": "code",
   "source": [
    "#multiplication\n",
    "arr_1*arr_2"
   ],
   "id": "bcbc1212623da712",
   "outputs": [
    {
     "data": {
      "text/plain": [
       "array([ 4, 10, 18])"
      ]
     },
     "execution_count": 5,
     "metadata": {},
     "output_type": "execute_result"
    }
   ],
   "execution_count": 5
  },
  {
   "metadata": {
    "ExecuteTime": {
     "end_time": "2024-12-09T08:40:33.939730Z",
     "start_time": "2024-12-09T08:40:33.937367Z"
    }
   },
   "cell_type": "code",
   "source": [
    "#modulo (remainder)\n",
    "arr_1%arr_2"
   ],
   "id": "650aa245220b63a3",
   "outputs": [
    {
     "data": {
      "text/plain": [
       "array([1, 2, 3])"
      ]
     },
     "execution_count": 7,
     "metadata": {},
     "output_type": "execute_result"
    }
   ],
   "execution_count": 7
  },
  {
   "metadata": {
    "ExecuteTime": {
     "end_time": "2024-12-09T08:41:51.674355Z",
     "start_time": "2024-12-09T08:41:51.670105Z"
    }
   },
   "cell_type": "code",
   "source": [
    "#divide\n",
    "arr_1/arr_2"
   ],
   "id": "e9b5fe7cd415e728",
   "outputs": [
    {
     "data": {
      "text/plain": [
       "array([0.25, 0.4 , 0.5 ])"
      ]
     },
     "execution_count": 8,
     "metadata": {},
     "output_type": "execute_result"
    }
   ],
   "execution_count": 8
  },
  {
   "metadata": {
    "ExecuteTime": {
     "end_time": "2024-12-09T08:46:00.560684Z",
     "start_time": "2024-12-09T08:46:00.557603Z"
    }
   },
   "cell_type": "code",
   "source": [
    "#In Python, // is the floor division operator. It divides two numbers and truncates the result to the nearest integer less than or equal to the division result.\n",
    "arr_2//arr_1"
   ],
   "id": "e1d227a7984e9966",
   "outputs": [
    {
     "data": {
      "text/plain": [
       "array([4, 2, 2])"
      ]
     },
     "execution_count": 10,
     "metadata": {},
     "output_type": "execute_result"
    }
   ],
   "execution_count": 10
  },
  {
   "metadata": {
    "ExecuteTime": {
     "end_time": "2024-12-09T08:49:39.558961Z",
     "start_time": "2024-12-09T08:49:39.555529Z"
    }
   },
   "cell_type": "code",
   "source": [
    "#In Python, ** is the exponentiation operator. It is used to raise a number to the power of another number.\n",
    "arr_2**arr_1"
   ],
   "id": "701c3191925d45aa",
   "outputs": [
    {
     "data": {
      "text/plain": [
       "array([  4,  25, 216])"
      ]
     },
     "execution_count": 11,
     "metadata": {},
     "output_type": "execute_result"
    }
   ],
   "execution_count": 11
  },
  {
   "metadata": {},
   "cell_type": "markdown",
   "source": "## when arrays ares not of the same shape, then broadcasting is applied.",
   "id": "37fe350bf927bb3b"
  },
  {
   "metadata": {
    "ExecuteTime": {
     "end_time": "2024-12-09T08:54:07.438181Z",
     "start_time": "2024-12-09T08:54:07.435215Z"
    }
   },
   "cell_type": "code",
   "source": "# In general, when NumPy expects arrays of the same shape but finds that this is not the case, it applies the so-called broadcasting rules:",
   "id": "dcf3776094b71914",
   "outputs": [],
   "execution_count": 12
  },
  {
   "metadata": {},
   "cell_type": "markdown",
   "source": [
    "## First rule\n",
    "If the arrays do not have the same rank, then a 1 will be prepended to the smaller ranking arrays until their ranks match."
   ],
   "id": "d3b9e7bfd6ed8c04"
  },
  {
   "metadata": {
    "ExecuteTime": {
     "end_time": "2024-12-09T09:11:04.054205Z",
     "start_time": "2024-12-09T09:11:04.052388Z"
    }
   },
   "cell_type": "code",
   "source": "arr_1=np.arange(4).reshape(1,1,4)",
   "id": "bc2304a7b8f3ea56",
   "outputs": [],
   "execution_count": 18
  },
  {
   "metadata": {
    "ExecuteTime": {
     "end_time": "2024-12-09T08:59:56.330552Z",
     "start_time": "2024-12-09T08:59:56.326964Z"
    }
   },
   "cell_type": "code",
   "source": "arr_1",
   "id": "29a3de68d36bb36a",
   "outputs": [
    {
     "data": {
      "text/plain": [
       "array([[[0, 1, 2, 3, 4]]])"
      ]
     },
     "execution_count": 16,
     "metadata": {},
     "output_type": "execute_result"
    }
   ],
   "execution_count": 16
  },
  {
   "metadata": {
    "ExecuteTime": {
     "end_time": "2024-12-09T09:00:13.574848Z",
     "start_time": "2024-12-09T09:00:13.571236Z"
    }
   },
   "cell_type": "code",
   "source": [
    "#rank of array\n",
    "arr_1.ndim"
   ],
   "id": "a0303091b9215910",
   "outputs": [
    {
     "data": {
      "text/plain": [
       "3"
      ]
     },
     "execution_count": 17,
     "metadata": {},
     "output_type": "execute_result"
    }
   ],
   "execution_count": 17
  },
  {
   "metadata": {},
   "cell_type": "markdown",
   "source": "### Now let's try to add a 1D array of shape (4,) to this 3D array of shape (1,1,5). Applying the first rule of broadcasting!",
   "id": "afa809144f67bb12"
  },
  {
   "metadata": {
    "ExecuteTime": {
     "end_time": "2024-12-09T09:13:34.927138Z",
     "start_time": "2024-12-09T09:13:34.923227Z"
    }
   },
   "cell_type": "code",
   "source": [
    "# the one-d array is [10,20,30,40]\n",
    "# now adding the one-d array into a 3-d array.\n",
    "arr_1+[10,20,30,40]\n",
    "# the one-d array is transformed into"
   ],
   "id": "e5f14c3335c33e55",
   "outputs": [
    {
     "data": {
      "text/plain": [
       "array([[[10, 21, 32, 43]]])"
      ]
     },
     "execution_count": 22,
     "metadata": {},
     "output_type": "execute_result"
    }
   ],
   "execution_count": 22
  },
  {
   "metadata": {},
   "cell_type": "code",
   "outputs": [],
   "execution_count": null,
   "source": "",
   "id": "b1d5649255260420"
  }
 ],
 "metadata": {
  "kernelspec": {
   "display_name": "Python 3",
   "language": "python",
   "name": "python3"
  },
  "language_info": {
   "codemirror_mode": {
    "name": "ipython",
    "version": 2
   },
   "file_extension": ".py",
   "mimetype": "text/x-python",
   "name": "python",
   "nbconvert_exporter": "python",
   "pygments_lexer": "ipython2",
   "version": "2.7.6"
  }
 },
 "nbformat": 4,
 "nbformat_minor": 5
}
