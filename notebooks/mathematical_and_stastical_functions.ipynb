{
 "cells": [
  {
   "cell_type": "code",
   "id": "initial_id",
   "metadata": {
    "collapsed": true,
    "ExecuteTime": {
     "end_time": "2024-12-12T05:30:07.890088Z",
     "start_time": "2024-12-12T05:30:07.817221Z"
    }
   },
   "source": [
    "import numpy as np\n",
    "\n",
    "#calculating mean using mean()\n",
    "#Note that this computes the mean of all elements in the `ndarray`, regardless of its shape.\n",
    "\n",
    "arr_1=np.array([[1,2,3,4,5],[6,7,8,9,10]])\n",
    "arr_1.mean()\n"
   ],
   "outputs": [
    {
     "data": {
      "text/plain": [
       "np.float64(5.5)"
      ]
     },
     "execution_count": 1,
     "metadata": {},
     "output_type": "execute_result"
    }
   ],
   "execution_count": 1
  },
  {
   "metadata": {
    "ExecuteTime": {
     "end_time": "2024-12-12T05:30:07.906513Z",
     "start_time": "2024-12-12T05:30:07.904125Z"
    }
   },
   "cell_type": "code",
   "source": [
    "# some useful numpy array methods.\n",
    "#getting the minimum value\n",
    "arr_1.min()"
   ],
   "id": "9245df84bccc3b6a",
   "outputs": [
    {
     "data": {
      "text/plain": [
       "np.int64(1)"
      ]
     },
     "execution_count": 2,
     "metadata": {},
     "output_type": "execute_result"
    }
   ],
   "execution_count": 2
  },
  {
   "metadata": {
    "ExecuteTime": {
     "end_time": "2024-12-12T05:30:08.052906Z",
     "start_time": "2024-12-12T05:30:08.050681Z"
    }
   },
   "cell_type": "code",
   "source": [
    "#getting the maximum value\n",
    "arr_1.max()"
   ],
   "id": "8b73004fb2c423ee",
   "outputs": [
    {
     "data": {
      "text/plain": [
       "np.int64(10)"
      ]
     },
     "execution_count": 3,
     "metadata": {},
     "output_type": "execute_result"
    }
   ],
   "execution_count": 3
  },
  {
   "metadata": {
    "ExecuteTime": {
     "end_time": "2024-12-12T05:30:08.163683Z",
     "start_time": "2024-12-12T05:30:08.160661Z"
    }
   },
   "cell_type": "code",
   "source": [
    "#sum of all elements of an array.\n",
    "arr_1.sum()"
   ],
   "id": "810761af0bfa781f",
   "outputs": [
    {
     "data": {
      "text/plain": [
       "np.int64(55)"
      ]
     },
     "execution_count": 4,
     "metadata": {},
     "output_type": "execute_result"
    }
   ],
   "execution_count": 4
  },
  {
   "metadata": {
    "ExecuteTime": {
     "end_time": "2024-12-12T05:31:18.786465Z",
     "start_time": "2024-12-12T05:31:18.783765Z"
    }
   },
   "cell_type": "code",
   "source": [
    "# product of all values\n",
    "arr_1.prod()"
   ],
   "id": "491022d0f940901b",
   "outputs": [
    {
     "data": {
      "text/plain": [
       "np.int64(3628800)"
      ]
     },
     "execution_count": 5,
     "metadata": {},
     "output_type": "execute_result"
    }
   ],
   "execution_count": 5
  },
  {
   "metadata": {
    "ExecuteTime": {
     "end_time": "2024-12-12T05:40:23.684616Z",
     "start_time": "2024-12-12T05:40:23.681852Z"
    }
   },
   "cell_type": "code",
   "source": [
    "#The standard deviation is the square root of the average of the squared differences between each number and the mean.\n",
    "arr_1.std()"
   ],
   "id": "ea54dff635337114",
   "outputs": [
    {
     "data": {
      "text/plain": [
       "np.float64(2.8722813232690143)"
      ]
     },
     "execution_count": 7,
     "metadata": {},
     "output_type": "execute_result"
    }
   ],
   "execution_count": 7
  },
  {
   "metadata": {
    "ExecuteTime": {
     "end_time": "2024-12-12T05:41:17.894913Z",
     "start_time": "2024-12-12T05:41:17.891437Z"
    }
   },
   "cell_type": "code",
   "source": [
    "# variance value:the average of the squared differences between each number and the mean.\n",
    "arr_1.var()"
   ],
   "id": "711b6cf358c84b1c",
   "outputs": [
    {
     "data": {
      "text/plain": [
       "np.float64(8.25)"
      ]
     },
     "execution_count": 8,
     "metadata": {},
     "output_type": "execute_result"
    }
   ],
   "execution_count": 8
  },
  {
   "metadata": {},
   "cell_type": "markdown",
   "source": "### These functions accept an optional argument axis which lets you ask for the operation to be performed on elements along the given axis. For example:",
   "id": "4c53c587eb5e090a"
  },
  {
   "metadata": {
    "ExecuteTime": {
     "end_time": "2024-12-12T07:39:56.532160Z",
     "start_time": "2024-12-12T07:39:56.529363Z"
    }
   },
   "cell_type": "code",
   "source": [
    "arr2=np.arange(30).reshape(6,5)\n",
    "arr2"
   ],
   "id": "fa8eb0c447c468d6",
   "outputs": [
    {
     "data": {
      "text/plain": [
       "array([[ 0,  1,  2,  3,  4],\n",
       "       [ 5,  6,  7,  8,  9],\n",
       "       [10, 11, 12, 13, 14],\n",
       "       [15, 16, 17, 18, 19],\n",
       "       [20, 21, 22, 23, 24],\n",
       "       [25, 26, 27, 28, 29]])"
      ]
     },
     "execution_count": 10,
     "metadata": {},
     "output_type": "execute_result"
    }
   ],
   "execution_count": 10
  },
  {
   "metadata": {
    "ExecuteTime": {
     "end_time": "2024-12-12T07:40:10.830915Z",
     "start_time": "2024-12-12T07:40:10.828033Z"
    }
   },
   "cell_type": "code",
   "source": "arr2.sum(axis=0)",
   "id": "c229dd74a0ea073",
   "outputs": [
    {
     "data": {
      "text/plain": [
       "array([75, 81, 87, 93, 99])"
      ]
     },
     "execution_count": 11,
     "metadata": {},
     "output_type": "execute_result"
    }
   ],
   "execution_count": 11
  },
  {
   "metadata": {
    "ExecuteTime": {
     "end_time": "2024-12-12T07:43:03.298190Z",
     "start_time": "2024-12-12T07:43:03.295680Z"
    }
   },
   "cell_type": "code",
   "source": [
    "arr3=arr2.reshape(2,5,3)\n",
    "arr3"
   ],
   "id": "4d700784ee4ad465",
   "outputs": [
    {
     "data": {
      "text/plain": [
       "array([[[ 0,  1,  2],\n",
       "        [ 3,  4,  5],\n",
       "        [ 6,  7,  8],\n",
       "        [ 9, 10, 11],\n",
       "        [12, 13, 14]],\n",
       "\n",
       "       [[15, 16, 17],\n",
       "        [18, 19, 20],\n",
       "        [21, 22, 23],\n",
       "        [24, 25, 26],\n",
       "        [27, 28, 29]]])"
      ]
     },
     "execution_count": 16,
     "metadata": {},
     "output_type": "execute_result"
    }
   ],
   "execution_count": 16
  },
  {
   "metadata": {
    "ExecuteTime": {
     "end_time": "2024-12-12T07:43:14.206056Z",
     "start_time": "2024-12-12T07:43:14.203091Z"
    }
   },
   "cell_type": "code",
   "source": [
    "arr3.sum(axis=0)\n",
    "#When you perform a sum along axis=0, values from corresponding positions in each block (along the first dimension) are added together. This means:\n",
    "\n",
    "#Sum the first elements of each block.\n",
    "#Sum the second elements of each block, and so on."
   ],
   "id": "9033eb3a16d443c6",
   "outputs": [
    {
     "data": {
      "text/plain": [
       "array([[15, 17, 19],\n",
       "       [21, 23, 25],\n",
       "       [27, 29, 31],\n",
       "       [33, 35, 37],\n",
       "       [39, 41, 43]])"
      ]
     },
     "execution_count": 17,
     "metadata": {},
     "output_type": "execute_result"
    }
   ],
   "execution_count": 17
  },
  {
   "metadata": {
    "ExecuteTime": {
     "end_time": "2024-12-12T07:44:48.554905Z",
     "start_time": "2024-12-12T07:44:48.552123Z"
    }
   },
   "cell_type": "code",
   "source": [
    "arr3.sum(axis=1)\n",
    "#When you sum along axis=1, you combine rows within each block. This means:\n",
    "\n",
    "#For each block, sum the values across the rows row-wise (at each column position)."
   ],
   "id": "9fcb1453e0e939ab",
   "outputs": [
    {
     "data": {
      "text/plain": [
       "array([[ 30,  35,  40],\n",
       "       [105, 110, 115]])"
      ]
     },
     "execution_count": 18,
     "metadata": {},
     "output_type": "execute_result"
    }
   ],
   "execution_count": 18
  },
  {
   "metadata": {},
   "cell_type": "code",
   "outputs": [],
   "execution_count": null,
   "source": "",
   "id": "1a231e2cae5875dd"
  }
 ],
 "metadata": {
  "kernelspec": {
   "display_name": "Python 3",
   "language": "python",
   "name": "python3"
  },
  "language_info": {
   "codemirror_mode": {
    "name": "ipython",
    "version": 2
   },
   "file_extension": ".py",
   "mimetype": "text/x-python",
   "name": "python",
   "nbconvert_exporter": "python",
   "pygments_lexer": "ipython2",
   "version": "2.7.6"
  }
 },
 "nbformat": 4,
 "nbformat_minor": 5
}
