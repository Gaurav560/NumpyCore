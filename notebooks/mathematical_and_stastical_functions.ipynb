{
 "cells": [
  {
   "cell_type": "code",
   "id": "initial_id",
   "metadata": {
    "collapsed": true,
    "ExecuteTime": {
     "end_time": "2024-12-13T08:28:03.803214Z",
     "start_time": "2024-12-13T08:28:03.800391Z"
    }
   },
   "source": [
    "import numpy as np\n",
    "\n",
    "#calculating mean using mean()\n",
    "#Note that this computes the mean of all elements in the `ndarray`, regardless of its shape.\n",
    "\n",
    "arr_1=np.array([[1,2,3,4,5],[6,7,8,9,10]])\n",
    "arr_1.mean()\n"
   ],
   "outputs": [
    {
     "data": {
      "text/plain": [
       "np.float64(5.5)"
      ]
     },
     "execution_count": 191,
     "metadata": {},
     "output_type": "execute_result"
    }
   ],
   "execution_count": 191
  },
  {
   "metadata": {
    "ExecuteTime": {
     "end_time": "2024-12-13T08:28:03.822805Z",
     "start_time": "2024-12-13T08:28:03.820658Z"
    }
   },
   "cell_type": "code",
   "source": [
    "# some useful numpy array methods.\n",
    "#getting the minimum value\n",
    "arr_1.min()"
   ],
   "id": "9245df84bccc3b6a",
   "outputs": [
    {
     "data": {
      "text/plain": [
       "np.int64(1)"
      ]
     },
     "execution_count": 192,
     "metadata": {},
     "output_type": "execute_result"
    }
   ],
   "execution_count": 192
  },
  {
   "metadata": {
    "ExecuteTime": {
     "end_time": "2024-12-13T08:28:03.844495Z",
     "start_time": "2024-12-13T08:28:03.842411Z"
    }
   },
   "cell_type": "code",
   "source": [
    "#getting the maximum value\n",
    "arr_1.max()"
   ],
   "id": "8b73004fb2c423ee",
   "outputs": [
    {
     "data": {
      "text/plain": [
       "np.int64(10)"
      ]
     },
     "execution_count": 193,
     "metadata": {},
     "output_type": "execute_result"
    }
   ],
   "execution_count": 193
  },
  {
   "metadata": {
    "ExecuteTime": {
     "end_time": "2024-12-13T08:28:03.869756Z",
     "start_time": "2024-12-13T08:28:03.867281Z"
    }
   },
   "cell_type": "code",
   "source": [
    "#sum of all elements of an array.\n",
    "arr_1.sum()"
   ],
   "id": "810761af0bfa781f",
   "outputs": [
    {
     "data": {
      "text/plain": [
       "np.int64(55)"
      ]
     },
     "execution_count": 194,
     "metadata": {},
     "output_type": "execute_result"
    }
   ],
   "execution_count": 194
  },
  {
   "metadata": {
    "ExecuteTime": {
     "end_time": "2024-12-13T08:28:03.885052Z",
     "start_time": "2024-12-13T08:28:03.882778Z"
    }
   },
   "cell_type": "code",
   "source": [
    "# product of all values\n",
    "arr_1.prod()"
   ],
   "id": "491022d0f940901b",
   "outputs": [
    {
     "data": {
      "text/plain": [
       "np.int64(3628800)"
      ]
     },
     "execution_count": 195,
     "metadata": {},
     "output_type": "execute_result"
    }
   ],
   "execution_count": 195
  },
  {
   "metadata": {
    "ExecuteTime": {
     "end_time": "2024-12-13T08:28:03.907817Z",
     "start_time": "2024-12-13T08:28:03.905596Z"
    }
   },
   "cell_type": "code",
   "source": [
    "#The standard deviation is the square root of the average of the squared differences between each number and the mean.\n",
    "arr_1.std()"
   ],
   "id": "ea54dff635337114",
   "outputs": [
    {
     "data": {
      "text/plain": [
       "np.float64(2.8722813232690143)"
      ]
     },
     "execution_count": 196,
     "metadata": {},
     "output_type": "execute_result"
    }
   ],
   "execution_count": 196
  },
  {
   "metadata": {
    "ExecuteTime": {
     "end_time": "2024-12-13T08:28:03.932727Z",
     "start_time": "2024-12-13T08:28:03.930480Z"
    }
   },
   "cell_type": "code",
   "source": [
    "# variance value:the average of the squared differences between each number and the mean.\n",
    "arr_1.var()"
   ],
   "id": "711b6cf358c84b1c",
   "outputs": [
    {
     "data": {
      "text/plain": [
       "np.float64(8.25)"
      ]
     },
     "execution_count": 197,
     "metadata": {},
     "output_type": "execute_result"
    }
   ],
   "execution_count": 197
  },
  {
   "metadata": {},
   "cell_type": "markdown",
   "source": "### These functions accept an optional argument axis which lets you ask for the operation to be performed on elements along the given axis. For example:",
   "id": "4c53c587eb5e090a"
  },
  {
   "metadata": {
    "ExecuteTime": {
     "end_time": "2024-12-13T08:28:03.960285Z",
     "start_time": "2024-12-13T08:28:03.958079Z"
    }
   },
   "cell_type": "code",
   "source": [
    "arr2=np.arange(30).reshape(6,5)\n",
    "arr2"
   ],
   "id": "fa8eb0c447c468d6",
   "outputs": [
    {
     "data": {
      "text/plain": [
       "array([[ 0,  1,  2,  3,  4],\n",
       "       [ 5,  6,  7,  8,  9],\n",
       "       [10, 11, 12, 13, 14],\n",
       "       [15, 16, 17, 18, 19],\n",
       "       [20, 21, 22, 23, 24],\n",
       "       [25, 26, 27, 28, 29]])"
      ]
     },
     "execution_count": 198,
     "metadata": {},
     "output_type": "execute_result"
    }
   ],
   "execution_count": 198
  },
  {
   "metadata": {
    "ExecuteTime": {
     "end_time": "2024-12-13T08:28:04.014245Z",
     "start_time": "2024-12-13T08:28:04.011833Z"
    }
   },
   "cell_type": "code",
   "source": "arr2.sum(axis=0)",
   "id": "c229dd74a0ea073",
   "outputs": [
    {
     "data": {
      "text/plain": [
       "array([75, 81, 87, 93, 99])"
      ]
     },
     "execution_count": 199,
     "metadata": {},
     "output_type": "execute_result"
    }
   ],
   "execution_count": 199
  },
  {
   "metadata": {
    "ExecuteTime": {
     "end_time": "2024-12-13T08:28:04.041860Z",
     "start_time": "2024-12-13T08:28:04.039125Z"
    }
   },
   "cell_type": "code",
   "source": [
    "arr3=arr2.reshape(2,5,3)\n",
    "arr3"
   ],
   "id": "4d700784ee4ad465",
   "outputs": [
    {
     "data": {
      "text/plain": [
       "array([[[ 0,  1,  2],\n",
       "        [ 3,  4,  5],\n",
       "        [ 6,  7,  8],\n",
       "        [ 9, 10, 11],\n",
       "        [12, 13, 14]],\n",
       "\n",
       "       [[15, 16, 17],\n",
       "        [18, 19, 20],\n",
       "        [21, 22, 23],\n",
       "        [24, 25, 26],\n",
       "        [27, 28, 29]]])"
      ]
     },
     "execution_count": 200,
     "metadata": {},
     "output_type": "execute_result"
    }
   ],
   "execution_count": 200
  },
  {
   "metadata": {
    "ExecuteTime": {
     "end_time": "2024-12-13T08:28:04.121486Z",
     "start_time": "2024-12-13T08:28:04.118971Z"
    }
   },
   "cell_type": "code",
   "source": [
    "arr3.sum(axis=0)\n",
    "#When you perform a sum along axis=0, values from corresponding positions in each block (along the first dimension) are added together. This means:\n",
    "\n",
    "#Sum the first elements of each block.\n",
    "#Sum the second elements of each block, and so on."
   ],
   "id": "9033eb3a16d443c6",
   "outputs": [
    {
     "data": {
      "text/plain": [
       "array([[15, 17, 19],\n",
       "       [21, 23, 25],\n",
       "       [27, 29, 31],\n",
       "       [33, 35, 37],\n",
       "       [39, 41, 43]])"
      ]
     },
     "execution_count": 201,
     "metadata": {},
     "output_type": "execute_result"
    }
   ],
   "execution_count": 201
  },
  {
   "metadata": {
    "ExecuteTime": {
     "end_time": "2024-12-13T08:28:04.207522Z",
     "start_time": "2024-12-13T08:28:04.205354Z"
    }
   },
   "cell_type": "code",
   "source": [
    "arr3.sum(axis=1)\n",
    "#When you sum along axis=1, you combine rows within each block. This means:\n",
    "#For each block, sum the values across the rows row-wise (at each column position)."
   ],
   "id": "9fcb1453e0e939ab",
   "outputs": [
    {
     "data": {
      "text/plain": [
       "array([[ 30,  35,  40],\n",
       "       [105, 110, 115]])"
      ]
     },
     "execution_count": 202,
     "metadata": {},
     "output_type": "execute_result"
    }
   ],
   "execution_count": 202
  },
  {
   "metadata": {
    "ExecuteTime": {
     "end_time": "2024-12-13T08:28:04.310838Z",
     "start_time": "2024-12-13T08:28:04.308767Z"
    }
   },
   "cell_type": "code",
   "source": [
    "#When you perform arr3.sum(axis=(0, 1, 2)) on a NumPy array, it means you're summing all elements across all three axes of a 3D array (axis=0, axis=1, and axis=2), effectively collapsing the array into a single scalar value.\n",
    "arr3.sum(axis=(0,1,2))"
   ],
   "id": "1a231e2cae5875dd",
   "outputs": [
    {
     "data": {
      "text/plain": [
       "np.int64(435)"
      ]
     },
     "execution_count": 203,
     "metadata": {},
     "output_type": "execute_result"
    }
   ],
   "execution_count": 203
  },
  {
   "metadata": {
    "ExecuteTime": {
     "end_time": "2024-12-13T08:28:04.405376Z",
     "start_time": "2024-12-13T08:28:04.403132Z"
    }
   },
   "cell_type": "code",
   "source": [
    "#sum over matrices and columns\n",
    "arr3.sum(axis=(0,2))"
   ],
   "id": "1e8e0ba209b61840",
   "outputs": [
    {
     "data": {
      "text/plain": [
       "array([ 51,  69,  87, 105, 123])"
      ]
     },
     "execution_count": 204,
     "metadata": {},
     "output_type": "execute_result"
    }
   ],
   "execution_count": 204
  },
  {
   "metadata": {
    "ExecuteTime": {
     "end_time": "2024-12-13T08:28:04.449051Z",
     "start_time": "2024-12-13T08:28:04.446723Z"
    }
   },
   "cell_type": "code",
   "source": [
    "arr3.sum(axis=(0,1))\n",
    "#sum over matrices and along rows"
   ],
   "id": "53c63f7d7d76f84d",
   "outputs": [
    {
     "data": {
      "text/plain": [
       "array([135, 145, 155])"
      ]
     },
     "execution_count": 205,
     "metadata": {},
     "output_type": "execute_result"
    }
   ],
   "execution_count": 205
  },
  {
   "metadata": {
    "ExecuteTime": {
     "end_time": "2024-12-13T08:28:04.521118Z",
     "start_time": "2024-12-13T08:28:04.519862Z"
    }
   },
   "cell_type": "code",
   "source": "",
   "id": "fc0f1d84d734a91b",
   "outputs": [],
   "execution_count": null
  },
  {
   "metadata": {},
   "cell_type": "markdown",
   "source": [
    "# Universal Functions -ufunc\n",
    "### NumPy also provides fast elementwise functions called universal functions, or ufunc."
   ],
   "id": "5efb6992c82d6296"
  },
  {
   "metadata": {
    "ExecuteTime": {
     "end_time": "2024-12-13T08:28:04.539652Z",
     "start_time": "2024-12-13T08:28:04.537366Z"
    }
   },
   "cell_type": "code",
   "source": [
    "arr4=np.array([[1,2,-3,4.5,5],\n",
    "               [6,-7,8.6,9,10]])\n",
    "arr4"
   ],
   "id": "647400a07cf47bdd",
   "outputs": [
    {
     "data": {
      "text/plain": [
       "array([[ 1. ,  2. , -3. ,  4.5,  5. ],\n",
       "       [ 6. , -7. ,  8.6,  9. , 10. ]])"
      ]
     },
     "execution_count": 206,
     "metadata": {},
     "output_type": "execute_result"
    }
   ],
   "execution_count": 206
  },
  {
   "metadata": {
    "ExecuteTime": {
     "end_time": "2024-12-13T08:28:04.572777Z",
     "start_time": "2024-12-13T08:28:04.570333Z"
    }
   },
   "cell_type": "code",
   "source": [
    "#element wise square of arr4\n",
    "np.square(arr4)"
   ],
   "id": "7614b903cb72ad29",
   "outputs": [
    {
     "data": {
      "text/plain": [
       "array([[  1.  ,   4.  ,   9.  ,  20.25,  25.  ],\n",
       "       [ 36.  ,  49.  ,  73.96,  81.  , 100.  ]])"
      ]
     },
     "execution_count": 207,
     "metadata": {},
     "output_type": "execute_result"
    }
   ],
   "execution_count": 207
  },
  {
   "metadata": {
    "ExecuteTime": {
     "end_time": "2024-12-13T08:28:04.651331Z",
     "start_time": "2024-12-13T08:28:04.648974Z"
    }
   },
   "cell_type": "code",
   "source": [
    "#element wise sqrt of arr4\n",
    "np.sqrt(arr4)\n"
   ],
   "id": "20b814d42b330856",
   "outputs": [
    {
     "name": "stderr",
     "output_type": "stream",
     "text": [
      "/var/folders/yt/nk9t1qyn7vx4jvyz_r5gsfwr0000gr/T/ipykernel_65687/3612839652.py:2: RuntimeWarning: invalid value encountered in sqrt\n",
      "  np.sqrt(arr4)\n"
     ]
    },
    {
     "data": {
      "text/plain": [
       "array([[1.        , 1.41421356,        nan, 2.12132034, 2.23606798],\n",
       "       [2.44948974,        nan, 2.93257566, 3.        , 3.16227766]])"
      ]
     },
     "execution_count": 208,
     "metadata": {},
     "output_type": "execute_result"
    }
   ],
   "execution_count": 208
  },
  {
   "metadata": {
    "ExecuteTime": {
     "end_time": "2024-12-13T08:28:04.765111Z",
     "start_time": "2024-12-13T08:28:04.762603Z"
    }
   },
   "cell_type": "code",
   "source": "np.absolute(arr4)",
   "id": "e25aad98a6efd497",
   "outputs": [
    {
     "data": {
      "text/plain": [
       "array([[ 1. ,  2. ,  3. ,  4.5,  5. ],\n",
       "       [ 6. ,  7. ,  8.6,  9. , 10. ]])"
      ]
     },
     "execution_count": 209,
     "metadata": {},
     "output_type": "execute_result"
    }
   ],
   "execution_count": 209
  },
  {
   "metadata": {
    "ExecuteTime": {
     "end_time": "2024-12-13T08:28:04.905752Z",
     "start_time": "2024-12-13T08:28:04.902521Z"
    }
   },
   "cell_type": "code",
   "source": [
    "print(\"Original array\")\n",
    "print(arr4)\n",
    "for func in (np.abs, np.sqrt, np.exp, np.log, np.sign, np.ceil, np.modf, np.isnan, np.cos):\n",
    "    print(\"\\n\",func.__name__)\n",
    "    print(func(arr4))"
   ],
   "id": "b86b3bf144ae26b6",
   "outputs": [
    {
     "name": "stdout",
     "output_type": "stream",
     "text": [
      "Original array\n",
      "[[ 1.   2.  -3.   4.5  5. ]\n",
      " [ 6.  -7.   8.6  9.  10. ]]\n",
      "\n",
      " absolute\n",
      "[[ 1.   2.   3.   4.5  5. ]\n",
      " [ 6.   7.   8.6  9.  10. ]]\n",
      "\n",
      " sqrt\n",
      "[[1.         1.41421356        nan 2.12132034 2.23606798]\n",
      " [2.44948974        nan 2.93257566 3.         3.16227766]]\n",
      "\n",
      " exp\n",
      "[[2.71828183e+00 7.38905610e+00 4.97870684e-02 9.00171313e+01\n",
      "  1.48413159e+02]\n",
      " [4.03428793e+02 9.11881966e-04 5.43165959e+03 8.10308393e+03\n",
      "  2.20264658e+04]]\n",
      "\n",
      " log\n",
      "[[0.         0.69314718        nan 1.5040774  1.60943791]\n",
      " [1.79175947        nan 2.1517622  2.19722458 2.30258509]]\n",
      "\n",
      " sign\n",
      "[[ 1.  1. -1.  1.  1.]\n",
      " [ 1. -1.  1.  1.  1.]]\n",
      "\n",
      " ceil\n",
      "[[ 1.  2. -3.  5.  5.]\n",
      " [ 6. -7.  9.  9. 10.]]\n",
      "\n",
      " modf\n",
      "(array([[ 0. ,  0. , -0. ,  0.5,  0. ],\n",
      "       [ 0. , -0. ,  0.6,  0. ,  0. ]]), array([[ 1.,  2., -3.,  4.,  5.],\n",
      "       [ 6., -7.,  8.,  9., 10.]]))\n",
      "\n",
      " isnan\n",
      "[[False False False False False]\n",
      " [False False False False False]]\n",
      "\n",
      " cos\n",
      "[[ 0.54030231 -0.41614684 -0.9899925  -0.2107958   0.28366219]\n",
      " [ 0.96017029  0.75390225 -0.67872005 -0.91113026 -0.83907153]]\n"
     ]
    },
    {
     "name": "stderr",
     "output_type": "stream",
     "text": [
      "/var/folders/yt/nk9t1qyn7vx4jvyz_r5gsfwr0000gr/T/ipykernel_65687/3806645518.py:5: RuntimeWarning: invalid value encountered in sqrt\n",
      "  print(func(arr4))\n",
      "/var/folders/yt/nk9t1qyn7vx4jvyz_r5gsfwr0000gr/T/ipykernel_65687/3806645518.py:5: RuntimeWarning: invalid value encountered in log\n",
      "  print(func(arr4))\n"
     ]
    }
   ],
   "execution_count": 210
  },
  {
   "metadata": {
    "ExecuteTime": {
     "end_time": "2024-12-13T08:28:05.016794Z",
     "start_time": "2024-12-13T08:28:05.014934Z"
    }
   },
   "cell_type": "code",
   "source": "#The two warnings are due to the fact that sqrt() and log() are undefined for negative numbers, which is why there is a np.nan value in the first cell of the output of these two functions.",
   "id": "32d25cb1df12af30",
   "outputs": [],
   "execution_count": 211
  },
  {
   "metadata": {
    "ExecuteTime": {
     "end_time": "2024-12-13T08:28:05.131262Z",
     "start_time": "2024-12-13T08:28:05.129946Z"
    }
   },
   "cell_type": "code",
   "source": "",
   "id": "eb4d08f3a3113910",
   "outputs": [],
   "execution_count": null
  },
  {
   "metadata": {},
   "cell_type": "markdown",
   "source": "# Binary ufuncs",
   "id": "f8911d8c7cd2c4a9"
  },
  {
   "metadata": {
    "ExecuteTime": {
     "end_time": "2024-12-13T08:28:05.164456Z",
     "start_time": "2024-12-13T08:28:05.162637Z"
    }
   },
   "cell_type": "code",
   "source": "#There are also many binary ufuncs, that apply elementwise on two ndarrays. Broadcasting rules are applied if the arrays do not have the same shape:",
   "id": "24b07f819bcc2fc0",
   "outputs": [],
   "execution_count": 212
  },
  {
   "metadata": {
    "ExecuteTime": {
     "end_time": "2024-12-13T08:28:05.210256Z",
     "start_time": "2024-12-13T08:28:05.207663Z"
    }
   },
   "cell_type": "code",
   "source": [
    "a = np.array([8, -2, 9])\n",
    "b = np.array([5, 8, -1])\n",
    "np.add(a, b)"
   ],
   "id": "f9562a71f1f1f8da",
   "outputs": [
    {
     "data": {
      "text/plain": [
       "array([13,  6,  8])"
      ]
     },
     "execution_count": 213,
     "metadata": {},
     "output_type": "execute_result"
    }
   ],
   "execution_count": 213
  },
  {
   "metadata": {
    "ExecuteTime": {
     "end_time": "2024-12-13T08:28:05.261685Z",
     "start_time": "2024-12-13T08:28:05.259220Z"
    }
   },
   "cell_type": "code",
   "source": "np.subtract(a, b)",
   "id": "240c0334089d458b",
   "outputs": [
    {
     "data": {
      "text/plain": [
       "array([  3, -10,  10])"
      ]
     },
     "execution_count": 214,
     "metadata": {},
     "output_type": "execute_result"
    }
   ],
   "execution_count": 214
  },
  {
   "metadata": {
    "ExecuteTime": {
     "end_time": "2024-12-13T08:28:05.295384Z",
     "start_time": "2024-12-13T08:28:05.292761Z"
    }
   },
   "cell_type": "code",
   "source": "np.multiply(a, b)",
   "id": "ae4de40d962ad047",
   "outputs": [
    {
     "data": {
      "text/plain": [
       "array([ 40, -16,  -9])"
      ]
     },
     "execution_count": 215,
     "metadata": {},
     "output_type": "execute_result"
    }
   ],
   "execution_count": 215
  },
  {
   "metadata": {
    "ExecuteTime": {
     "end_time": "2024-12-13T08:28:05.328764Z",
     "start_time": "2024-12-13T08:28:05.326376Z"
    }
   },
   "cell_type": "code",
   "source": "np.maximum(a, b)",
   "id": "3aae7af9bd4587e7",
   "outputs": [
    {
     "data": {
      "text/plain": [
       "array([8, 8, 9])"
      ]
     },
     "execution_count": 216,
     "metadata": {},
     "output_type": "execute_result"
    }
   ],
   "execution_count": 216
  },
  {
   "metadata": {
    "ExecuteTime": {
     "end_time": "2024-12-13T08:28:05.385029Z",
     "start_time": "2024-12-13T08:28:05.382722Z"
    }
   },
   "cell_type": "code",
   "source": [
    "# magnitude of a and sign of b\n",
    "np.copysign(a, b)"
   ],
   "id": "b6838660b60ec474",
   "outputs": [
    {
     "data": {
      "text/plain": [
       "array([ 8.,  2., -9.])"
      ]
     },
     "execution_count": 217,
     "metadata": {},
     "output_type": "execute_result"
    }
   ],
   "execution_count": 217
  },
  {
   "metadata": {
    "ExecuteTime": {
     "end_time": "2024-12-13T08:28:05.409794Z",
     "start_time": "2024-12-13T08:28:05.407398Z"
    }
   },
   "cell_type": "code",
   "source": "np.greater(a, b)",
   "id": "843d6e8239e73568",
   "outputs": [
    {
     "data": {
      "text/plain": [
       "array([ True, False,  True])"
      ]
     },
     "execution_count": 218,
     "metadata": {},
     "output_type": "execute_result"
    }
   ],
   "execution_count": 218
  },
  {
   "metadata": {
    "ExecuteTime": {
     "end_time": "2024-12-13T08:28:05.451353Z",
     "start_time": "2024-12-13T08:28:05.450005Z"
    }
   },
   "cell_type": "code",
   "source": "",
   "id": "9fcc292c47910693",
   "outputs": [],
   "execution_count": null
  }
 ],
 "metadata": {
  "kernelspec": {
   "display_name": "Python 3",
   "language": "python",
   "name": "python3"
  },
  "language_info": {
   "codemirror_mode": {
    "name": "ipython",
    "version": 2
   },
   "file_extension": ".py",
   "mimetype": "text/x-python",
   "name": "python",
   "nbconvert_exporter": "python",
   "pygments_lexer": "ipython2",
   "version": "2.7.6"
  }
 },
 "nbformat": 4,
 "nbformat_minor": 5
}
