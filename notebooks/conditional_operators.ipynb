{
 "cells": [
  {
   "cell_type": "code",
   "id": "initial_id",
   "metadata": {
    "collapsed": true,
    "ExecuteTime": {
     "end_time": "2024-12-09T09:20:44.121920Z",
     "start_time": "2024-12-09T09:20:44.119321Z"
    }
   },
   "source": "## The conditional operators also apply elementwise:",
   "outputs": [],
   "execution_count": 1
  },
  {
   "metadata": {
    "ExecuteTime": {
     "end_time": "2024-12-09T09:21:49.343024Z",
     "start_time": "2024-12-09T09:21:49.304762Z"
    }
   },
   "cell_type": "code",
   "source": [
    "import numpy as np\n",
    "\n",
    "arr_1=np.array([20,-15,55,60,58])\n",
    "arr_1<[20,30,40,50,70]"
   ],
   "id": "e5c82cbff6d04217",
   "outputs": [
    {
     "data": {
      "text/plain": [
       "array([False,  True, False, False,  True])"
      ]
     },
     "execution_count": 2,
     "metadata": {},
     "output_type": "execute_result"
    }
   ],
   "execution_count": 2
  },
  {
   "metadata": {
    "ExecuteTime": {
     "end_time": "2024-12-09T09:22:08.230004Z",
     "start_time": "2024-12-09T09:22:08.225781Z"
    }
   },
   "cell_type": "code",
   "source": [
    "#using broadcasting\n",
    "arr_1<24\n",
    "# as 24 expands itself to [24,24,24,24,24]"
   ],
   "id": "dab54a095a5b89e1",
   "outputs": [
    {
     "data": {
      "text/plain": [
       "array([ True,  True, False, False, False])"
      ]
     },
     "execution_count": 3,
     "metadata": {},
     "output_type": "execute_result"
    }
   ],
   "execution_count": 3
  },
  {
   "metadata": {
    "ExecuteTime": {
     "end_time": "2024-12-09T09:23:09.767786Z",
     "start_time": "2024-12-09T09:23:09.764027Z"
    }
   },
   "cell_type": "code",
   "source": [
    "#getting the values.\n",
    "arr_1[arr_1<24]"
   ],
   "id": "6334c7fe9a2426b",
   "outputs": [
    {
     "data": {
      "text/plain": [
       "array([ 20, -15])"
      ]
     },
     "execution_count": 4,
     "metadata": {},
     "output_type": "execute_result"
    }
   ],
   "execution_count": 4
  },
  {
   "metadata": {},
   "cell_type": "code",
   "outputs": [],
   "execution_count": null,
   "source": "",
   "id": "e20b69b910b4e1a0"
  }
 ],
 "metadata": {
  "kernelspec": {
   "display_name": "Python 3",
   "language": "python",
   "name": "python3"
  },
  "language_info": {
   "codemirror_mode": {
    "name": "ipython",
    "version": 2
   },
   "file_extension": ".py",
   "mimetype": "text/x-python",
   "name": "python",
   "nbconvert_exporter": "python",
   "pygments_lexer": "ipython2",
   "version": "2.7.6"
  }
 },
 "nbformat": 4,
 "nbformat_minor": 5
}
