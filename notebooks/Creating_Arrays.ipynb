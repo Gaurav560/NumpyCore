{
 "cells": [
  {
   "cell_type": "code",
   "id": "initial_id",
   "metadata": {
    "collapsed": true,
    "ExecuteTime": {
     "end_time": "2024-12-07T07:19:19.367335Z",
     "start_time": "2024-12-07T07:19:19.365473Z"
    }
   },
   "source": [
    "#dimesnion aur axis same hote hain.\n",
    "# example: x dimension and x axis are same.\n",
    "import numpy as np"
   ],
   "outputs": [],
   "execution_count": 197
  },
  {
   "metadata": {
    "ExecuteTime": {
     "end_time": "2024-12-07T07:19:19.379408Z",
     "start_time": "2024-12-07T07:19:19.377020Z"
    }
   },
   "cell_type": "code",
   "source": [
    "# with np.zeros()\n",
    "#by default it creates array of float type but if we specify dtype=int, it creates an array of int type.\n",
    "# one-dimensional i,e, vector and z in naming indicates zero.\n",
    "z_vec=np.zeros(5,dtype=int)\n",
    "z_vec"
   ],
   "id": "d6360b7d0a89d9aa",
   "outputs": [
    {
     "data": {
      "text/plain": [
       "array([0, 0, 0, 0, 0])"
      ]
     },
     "execution_count": 198,
     "metadata": {},
     "output_type": "execute_result"
    }
   ],
   "execution_count": 198
  },
  {
   "metadata": {
    "ExecuteTime": {
     "end_time": "2024-12-07T07:19:19.397128Z",
     "start_time": "2024-12-07T07:19:19.394592Z"
    }
   },
   "cell_type": "code",
   "source": [
    "#2-d array\n",
    "z_mat=np.zeros((5,5))\n",
    "z_mat"
   ],
   "id": "b5e0c5d8bc2c4aa7",
   "outputs": [
    {
     "data": {
      "text/plain": [
       "array([[0., 0., 0., 0., 0.],\n",
       "       [0., 0., 0., 0., 0.],\n",
       "       [0., 0., 0., 0., 0.],\n",
       "       [0., 0., 0., 0., 0.],\n",
       "       [0., 0., 0., 0., 0.]])"
      ]
     },
     "execution_count": 199,
     "metadata": {},
     "output_type": "execute_result"
    }
   ],
   "execution_count": 199
  },
  {
   "metadata": {
    "ExecuteTime": {
     "end_time": "2024-12-07T07:19:19.429068Z",
     "start_time": "2024-12-07T07:19:19.426762Z"
    }
   },
   "cell_type": "code",
   "source": "z_mat.shape",
   "id": "369dc38a583ee041",
   "outputs": [
    {
     "data": {
      "text/plain": [
       "(5, 5)"
      ]
     },
     "execution_count": 200,
     "metadata": {},
     "output_type": "execute_result"
    }
   ],
   "execution_count": 200
  },
  {
   "metadata": {
    "ExecuteTime": {
     "end_time": "2024-12-07T07:19:19.478089Z",
     "start_time": "2024-12-07T07:19:19.475464Z"
    }
   },
   "cell_type": "code",
   "source": [
    "# for dimension\n",
    "z_mat.ndim"
   ],
   "id": "439789e515ff3b3",
   "outputs": [
    {
     "data": {
      "text/plain": [
       "2"
      ]
     },
     "execution_count": 201,
     "metadata": {},
     "output_type": "execute_result"
    }
   ],
   "execution_count": 201
  },
  {
   "metadata": {
    "ExecuteTime": {
     "end_time": "2024-12-07T07:19:19.553431Z",
     "start_time": "2024-12-07T07:19:19.551191Z"
    }
   },
   "cell_type": "code",
   "source": [
    "#for size-no of elements in an array is size of an element\n",
    "z_mat.size"
   ],
   "id": "165dfcdaab7a1c49",
   "outputs": [
    {
     "data": {
      "text/plain": [
       "25"
      ]
     },
     "execution_count": 202,
     "metadata": {},
     "output_type": "execute_result"
    }
   ],
   "execution_count": 202
  },
  {
   "metadata": {
    "ExecuteTime": {
     "end_time": "2024-12-07T07:19:19.622259Z",
     "start_time": "2024-12-07T07:19:19.620523Z"
    }
   },
   "cell_type": "code",
   "source": "#rank-no of dimensions of an array",
   "id": "18a1b8e0f410f02b",
   "outputs": [],
   "execution_count": 203
  },
  {
   "metadata": {
    "ExecuteTime": {
     "end_time": "2024-12-07T07:19:19.632341Z",
     "start_time": "2024-12-07T07:19:19.630317Z"
    }
   },
   "cell_type": "code",
   "source": [
    "#creating an array with rank 3 i.e, 3-dimensional array having dimension length (3,4,5)\n",
    "#A 3D NumPy array can be thought of as a cube or a stack of 2D arrays (matrices). It has three axes:\n",
    "\n",
    "#Axis 0: depth (number of 2D arrays stacked)\n",
    "#Axis 1: rows in each 2D array\n",
    "#Axis 2: columns in each 2D array\n",
    "\n",
    "z_arr=np.zeros((3,4,5))"
   ],
   "id": "739bfbdbba429bbc",
   "outputs": [],
   "execution_count": 204
  },
  {
   "metadata": {
    "ExecuteTime": {
     "end_time": "2024-12-07T07:19:19.640789Z",
     "start_time": "2024-12-07T07:19:19.638562Z"
    }
   },
   "cell_type": "code",
   "source": "z_arr",
   "id": "f82a1a2a35feb86a",
   "outputs": [
    {
     "data": {
      "text/plain": [
       "array([[[0., 0., 0., 0., 0.],\n",
       "        [0., 0., 0., 0., 0.],\n",
       "        [0., 0., 0., 0., 0.],\n",
       "        [0., 0., 0., 0., 0.]],\n",
       "\n",
       "       [[0., 0., 0., 0., 0.],\n",
       "        [0., 0., 0., 0., 0.],\n",
       "        [0., 0., 0., 0., 0.],\n",
       "        [0., 0., 0., 0., 0.]],\n",
       "\n",
       "       [[0., 0., 0., 0., 0.],\n",
       "        [0., 0., 0., 0., 0.],\n",
       "        [0., 0., 0., 0., 0.],\n",
       "        [0., 0., 0., 0., 0.]]])"
      ]
     },
     "execution_count": 205,
     "metadata": {},
     "output_type": "execute_result"
    }
   ],
   "execution_count": 205
  },
  {
   "metadata": {
    "ExecuteTime": {
     "end_time": "2024-12-07T07:19:19.652866Z",
     "start_time": "2024-12-07T07:19:19.650879Z"
    }
   },
   "cell_type": "code",
   "source": [
    "#Array-type: numpy array have type i.e, ndarray\n",
    "type(z_arr)"
   ],
   "id": "4af307c300ec66f7",
   "outputs": [
    {
     "data": {
      "text/plain": [
       "numpy.ndarray"
      ]
     },
     "execution_count": 206,
     "metadata": {},
     "output_type": "execute_result"
    }
   ],
   "execution_count": 206
  },
  {
   "metadata": {
    "ExecuteTime": {
     "end_time": "2024-12-07T07:19:19.671293Z",
     "start_time": "2024-12-07T07:19:19.668440Z"
    }
   },
   "cell_type": "code",
   "source": [
    "#Creating Numpy array using np.ones()\n",
    "# one- dimensional  i.e, vector and o in the naming represents one\n",
    "o_vec=np.ones(5)\n",
    "o_vec"
   ],
   "id": "8ded17193120f29b",
   "outputs": [
    {
     "data": {
      "text/plain": [
       "array([1., 1., 1., 1., 1.])"
      ]
     },
     "execution_count": 207,
     "metadata": {},
     "output_type": "execute_result"
    }
   ],
   "execution_count": 207
  },
  {
   "metadata": {
    "ExecuteTime": {
     "end_time": "2024-12-07T07:19:19.687045Z",
     "start_time": "2024-12-07T07:19:19.684644Z"
    }
   },
   "cell_type": "code",
   "source": [
    "#two- dimensional i.e, matrix\n",
    "o_mat=np.ones((5,5))\n",
    "o_mat"
   ],
   "id": "7882e53911734b5",
   "outputs": [
    {
     "data": {
      "text/plain": [
       "array([[1., 1., 1., 1., 1.],\n",
       "       [1., 1., 1., 1., 1.],\n",
       "       [1., 1., 1., 1., 1.],\n",
       "       [1., 1., 1., 1., 1.],\n",
       "       [1., 1., 1., 1., 1.]])"
      ]
     },
     "execution_count": 208,
     "metadata": {},
     "output_type": "execute_result"
    }
   ],
   "execution_count": 208
  },
  {
   "metadata": {
    "ExecuteTime": {
     "end_time": "2024-12-07T07:19:19.751923Z",
     "start_time": "2024-12-07T07:19:19.750102Z"
    }
   },
   "cell_type": "code",
   "source": [
    "# Creating numpy array using np.full with a specific value. it will fill the array with the same specific value.\n",
    "f_arr=np.full((3,3),2)\n"
   ],
   "id": "a8167b589284c2c",
   "outputs": [],
   "execution_count": 209
  },
  {
   "metadata": {
    "ExecuteTime": {
     "end_time": "2024-12-07T07:19:19.781307Z",
     "start_time": "2024-12-07T07:19:19.778939Z"
    }
   },
   "cell_type": "code",
   "source": "f_arr",
   "id": "10551eb364332663",
   "outputs": [
    {
     "data": {
      "text/plain": [
       "array([[2, 2, 2],\n",
       "       [2, 2, 2],\n",
       "       [2, 2, 2]])"
      ]
     },
     "execution_count": 210,
     "metadata": {},
     "output_type": "execute_result"
    }
   ],
   "execution_count": 210
  },
  {
   "metadata": {
    "ExecuteTime": {
     "end_time": "2024-12-07T07:19:19.867189Z",
     "start_time": "2024-12-07T07:19:19.864752Z"
    }
   },
   "cell_type": "code",
   "source": [
    "f_mat=np.full((4,5),np.sqrt(5))\n",
    "f_mat"
   ],
   "id": "1c184ad7e858cfb1",
   "outputs": [
    {
     "data": {
      "text/plain": [
       "array([[2.23606798, 2.23606798, 2.23606798, 2.23606798, 2.23606798],\n",
       "       [2.23606798, 2.23606798, 2.23606798, 2.23606798, 2.23606798],\n",
       "       [2.23606798, 2.23606798, 2.23606798, 2.23606798, 2.23606798],\n",
       "       [2.23606798, 2.23606798, 2.23606798, 2.23606798, 2.23606798]])"
      ]
     },
     "execution_count": 211,
     "metadata": {},
     "output_type": "execute_result"
    }
   ],
   "execution_count": 211
  },
  {
   "metadata": {
    "ExecuteTime": {
     "end_time": "2024-12-07T07:19:19.985207Z",
     "start_time": "2024-12-07T07:19:19.982886Z"
    }
   },
   "cell_type": "code",
   "source": [
    "#Creating array using : np.empty\n",
    "#An uninitialized 2x3 array (its content is not predictable, as it is whatever is in memory at that point):\n",
    "\n",
    "e_mat=np.empty((2,3))\n",
    "e_mat"
   ],
   "id": "5f34d0f95fab654d",
   "outputs": [
    {
     "data": {
      "text/plain": [
       "array([[0., 0., 0.],\n",
       "       [0., 0., 0.]])"
      ]
     },
     "execution_count": 212,
     "metadata": {},
     "output_type": "execute_result"
    }
   ],
   "execution_count": 212
  },
  {
   "metadata": {
    "ExecuteTime": {
     "end_time": "2024-12-07T07:19:20.086364Z",
     "start_time": "2024-12-07T07:19:20.084199Z"
    }
   },
   "cell_type": "code",
   "source": [
    "#Initializing a numpy array using a regular python list by calling the array function\n",
    "np.array([[1,2,3,4],[5,6,7,8]])"
   ],
   "id": "ee7cdbee4b405a50",
   "outputs": [
    {
     "data": {
      "text/plain": [
       "array([[1, 2, 3, 4],\n",
       "       [5, 6, 7, 8]])"
      ]
     },
     "execution_count": 213,
     "metadata": {},
     "output_type": "execute_result"
    }
   ],
   "execution_count": 213
  },
  {
   "metadata": {
    "ExecuteTime": {
     "end_time": "2024-12-07T07:19:20.187587Z",
     "start_time": "2024-12-07T07:19:20.185268Z"
    }
   },
   "cell_type": "code",
   "source": [
    "# Creating an array using np.arange(). \n",
    "#np.arange() creates a NumPy array with evenly spaced values within a specified interval. It's similar to Python's range() but returns a NumPy array instead of a range object.\n",
    "# and you can also provide a step parameter.\n",
    "\n",
    "np.arange(2,6)"
   ],
   "id": "72098a9737eb6bb0",
   "outputs": [
    {
     "data": {
      "text/plain": [
       "array([2, 3, 4, 5])"
      ]
     },
     "execution_count": 214,
     "metadata": {},
     "output_type": "execute_result"
    }
   ],
   "execution_count": 214
  },
  {
   "metadata": {
    "ExecuteTime": {
     "end_time": "2024-12-07T07:19:20.333643Z",
     "start_time": "2024-12-07T07:19:20.331578Z"
    }
   },
   "cell_type": "code",
   "source": [
    "#using float values and step parameter: 2\n",
    "np.arange(11.0,18.5,2)"
   ],
   "id": "73580b860d789d90",
   "outputs": [
    {
     "data": {
      "text/plain": [
       "array([11., 13., 15., 17.])"
      ]
     },
     "execution_count": 215,
     "metadata": {},
     "output_type": "execute_result"
    }
   ],
   "execution_count": 215
  },
  {
   "metadata": {
    "ExecuteTime": {
     "end_time": "2024-12-07T07:19:20.413746Z",
     "start_time": "2024-12-07T07:19:20.411870Z"
    }
   },
   "cell_type": "code",
   "source": "#However, when dealing with floats, the exact number of elements in the array is not always predictable. because the exact value differs for 1/3, 0.3333333, and 0.3333334",
   "id": "1efe0c13ebc8cb82",
   "outputs": [],
   "execution_count": 216
  },
  {
   "metadata": {
    "ExecuteTime": {
     "end_time": "2024-12-07T07:19:20.487498Z",
     "start_time": "2024-12-07T07:19:20.485203Z"
    }
   },
   "cell_type": "code",
   "source": [
    "# example 1\n",
    "np.arange(0,7/3,1/3)"
   ],
   "id": "d6431895360ca39f",
   "outputs": [
    {
     "data": {
      "text/plain": [
       "array([0.        , 0.33333333, 0.66666667, 1.        , 1.33333333,\n",
       "       1.66666667, 2.        , 2.33333333])"
      ]
     },
     "execution_count": 217,
     "metadata": {},
     "output_type": "execute_result"
    }
   ],
   "execution_count": 217
  },
  {
   "metadata": {
    "ExecuteTime": {
     "end_time": "2024-12-07T07:19:20.510295Z",
     "start_time": "2024-12-07T07:19:20.507884Z"
    }
   },
   "cell_type": "code",
   "source": [
    "#example 2\n",
    "np.arange(0,7/3,0.3333333)"
   ],
   "id": "15c412200fb8d1e2",
   "outputs": [
    {
     "data": {
      "text/plain": [
       "array([0.       , 0.3333333, 0.6666666, 0.9999999, 1.3333332, 1.6666665,\n",
       "       1.9999998, 2.3333331])"
      ]
     },
     "execution_count": 218,
     "metadata": {},
     "output_type": "execute_result"
    }
   ],
   "execution_count": 218
  },
  {
   "metadata": {
    "ExecuteTime": {
     "end_time": "2024-12-07T07:19:20.527228Z",
     "start_time": "2024-12-07T07:19:20.524937Z"
    }
   },
   "cell_type": "code",
   "source": [
    "#example 3\n",
    "np.arange(0,7/3,0.3333334)\n",
    "\n",
    "# look for the above three examples, as we are dealing with float, in the 2nd example there are total 8 elements . but example 1 and 3 have 7 elements. so the moral is exact number of elements is not predictable when dealing with floats."
   ],
   "id": "b789111f145a5a41",
   "outputs": [
    {
     "data": {
      "text/plain": [
       "array([0.       , 0.3333334, 0.6666668, 1.0000002, 1.3333336, 1.666667 ,\n",
       "       2.0000004])"
      ]
     },
     "execution_count": 219,
     "metadata": {},
     "output_type": "execute_result"
    }
   ],
   "execution_count": 219
  },
  {
   "metadata": {},
   "cell_type": "markdown",
   "source": [
    "## np.linspace\n",
    "For this reason, it is generally preferable to use the linspace function instead of arange when working with floats. The linspace function returns an array containing a specific number of points evenly distributed between two values (note that the maximum value is included, contrary to arange):"
   ],
   "id": "cf20f3d805d4d3d5"
  },
  {
   "metadata": {
    "ExecuteTime": {
     "end_time": "2024-12-07T07:19:20.544437Z",
     "start_time": "2024-12-07T07:19:20.542086Z"
    }
   },
   "cell_type": "code",
   "source": [
    "## Generate 6 evenly spaced numbers between 0 and 7/3 (inclusive). arange also does the same but there is no guarantee of no of elements.\n",
    "np.linspace(0,7/3,6)"
   ],
   "id": "377728c4f17ab133",
   "outputs": [
    {
     "data": {
      "text/plain": [
       "array([0.        , 0.46666667, 0.93333333, 1.4       , 1.86666667,\n",
       "       2.33333333])"
      ]
     },
     "execution_count": 220,
     "metadata": {},
     "output_type": "execute_result"
    }
   ],
   "execution_count": 220
  },
  {
   "metadata": {},
   "cell_type": "markdown",
   "source": "## Generating numpy array using rand() and randn() functions",
   "id": "aef7fc8d4387614d"
  },
  {
   "metadata": {
    "ExecuteTime": {
     "end_time": "2024-12-07T07:19:20.560029Z",
     "start_time": "2024-12-07T07:19:20.557471Z"
    }
   },
   "cell_type": "code",
   "source": [
    "# Generate a 4x4 array of random numbers from a uniform distribution in the range [0, 1)\n",
    "# - `np.random.rand(4, 4)` generates a 4x4 array (4 rows, 4 columns).\n",
    "# - All values are randomly sampled and uniformly distributed across the interval [0, 1).\n",
    "# - Each value has an equal probability of being selected within this range.\n",
    "# - This is useful when you need random values constrained between 0 and 1.\n",
    "rand_array = np.random.rand(4, 4)\n",
    "\n",
    "# Print the generated 4x4 array\n",
    "print(\"Uniformly distributed random numbers (0 to 1):\")\n",
    "rand_array"
   ],
   "id": "273e0ddc92672c79",
   "outputs": [
    {
     "name": "stdout",
     "output_type": "stream",
     "text": [
      "Uniformly distributed random numbers (0 to 1):\n"
     ]
    },
    {
     "data": {
      "text/plain": [
       "array([[0.65547055, 0.54373647, 0.37429875, 0.81449666],\n",
       "       [0.12600057, 0.35340644, 0.87312172, 0.31798077],\n",
       "       [0.79101298, 0.96204414, 0.1729411 , 0.04142807],\n",
       "       [0.22077226, 0.70036532, 0.6004244 , 0.19693822]])"
      ]
     },
     "execution_count": 221,
     "metadata": {},
     "output_type": "execute_result"
    }
   ],
   "execution_count": 221
  },
  {
   "metadata": {
    "ExecuteTime": {
     "end_time": "2024-12-07T07:19:20.595127Z",
     "start_time": "2024-12-07T07:19:20.592210Z"
    }
   },
   "cell_type": "code",
   "source": [
    "# Generate a 4x4 array of random numbers from a standard normal distribution\n",
    "# - `np.random.randn(4, 4)` generates a 4x4 array (4 rows, 4 columns).\n",
    "# - All values are randomly sampled from a standard normal distribution with:\n",
    "#   - Mean = 0: The mean is the average value of the data. For a standard normal distribution:\n",
    "#       - The mean is 0.\n",
    "#       - The curve is symmetric around this point.\n",
    "#       - It represents the \"center\" of the data, where most of the values cluster.\n",
    "#   - Standard deviation = 1: The standard deviation measures the spread or variability of the data:\n",
    "#       - A smaller standard deviation means the data points are closer to the mean.\n",
    "#       - A larger standard deviation means the data points are spread out more.\n",
    "#       - For a standard normal distribution, the standard deviation is 1.\n",
    "#       - Approximately:\n",
    "#           - 68% of values lie within 1 standard deviation (-1 to +1).\n",
    "#           - 95% of values lie within 2 standard deviations (-2 to +2).\n",
    "#           - 99.7% of values lie within 3 standard deviations (-3 to +3).\n",
    "# - The values are symmetric around 0, and most values are concentrated close to 0,\n",
    "#   following the shape of a bell curve.\n",
    "# - Useful when normally distributed data is required, such as in simulations or modeling.\n",
    "randn_array = np.random.randn(4, 4)\n",
    "randn_array"
   ],
   "id": "8b8c07780e3ee369",
   "outputs": [
    {
     "data": {
      "text/plain": [
       "array([[ 0.38354828, -0.37126673,  1.88701856,  1.26630495],\n",
       "       [-0.33454249, -0.46296213, -0.89647055, -0.52087731],\n",
       "       [-0.70750324,  2.09459806,  0.67272394,  0.01603951],\n",
       "       [ 0.38157888, -1.01019678, -0.66346182, -0.5443195 ]])"
      ]
     },
     "execution_count": 222,
     "metadata": {},
     "output_type": "execute_result"
    }
   ],
   "execution_count": 222
  },
  {
   "metadata": {
    "ExecuteTime": {
     "end_time": "2024-12-07T07:19:20.665362Z",
     "start_time": "2024-12-07T07:19:20.664042Z"
    }
   },
   "cell_type": "code",
   "source": "",
   "id": "852919b40d8f499f",
   "outputs": [],
   "execution_count": null
  },
  {
   "metadata": {},
   "cell_type": "markdown",
   "source": "## Visualizing this with matplotlib rand and randn\n",
   "id": "4b654afc8792db8"
  },
  {
   "metadata": {
    "ExecuteTime": {
     "end_time": "2024-12-07T07:23:31.947178Z",
     "start_time": "2024-12-07T07:23:31.891006Z"
    }
   },
   "cell_type": "code",
   "source": [
    "import matplotlib.pyplot as plt\n",
    "#bins=100 means the range from 0 to 1 is divided into 100 equal intervals.\n",
    "#For example, if you have a range from 0 to 1, each bin would represent a small interval of 0.01 (i.e., [0, 0.01), [0.01, 0.02), ..., [0.99, 1.00)).\n",
    "#density belongs to probability\n",
    "#The y-axis is set to 1.1 to ensure we can see the full height of both distributions. If we set it to exactly 1, we might cut off some of the peaks.\n",
    "plt.hist(np.random.rand(10000), density=True,color=\"blue\", label=\"rand\")\n",
    "plt.hist(np.random.randn(10000), density=True,color=\"gold\", label=\"randn\")\n",
    "#The plt.axis() function takes a list or tuple with four values: [xmin, xmax, ymin, ymax]\n",
    "plt.axis([-2.5, 2.5, 0, 1.1])\n",
    "\n",
    "plt.legend(loc = \"upper left\")\n",
    "plt.title(\"Random distributions\")\n",
    "plt.xlabel(\"Value\")\n",
    "plt.ylabel(\"Density\")\n",
    "plt.show()\n",
    "\n",
    "# one can see that for randn , the mean is 0 and std deviation is 1 , it means most of the values are between 0 and 1.\n",
    "# and for rand all values are between [0,1)"
   ],
   "id": "7bcc131e02c150a2",
   "outputs": [
    {
     "data": {
      "text/plain": [
       "<Figure size 640x480 with 1 Axes>"
      ],
      "image/png": "[encoded data removed]"
     },
     "metadata": {},
     "output_type": "display_data"
    }
   ],
   "execution_count": 226
  },
  {
   "metadata": {},
   "cell_type": "markdown",
   "source": "## Creating a  numpy array using fromfunction i.e, np.fromfunction",
   "id": "60530c5a6014403e"
  },
  {
   "metadata": {},
   "cell_type": "code",
   "outputs": [],
   "execution_count": null,
   "source": "",
   "id": "d1f3015502cba281"
  }
 ],
 "metadata": {
  "kernelspec": {
   "display_name": "Python 3",
   "language": "python",
   "name": "python3"
  },
  "language_info": {
   "codemirror_mode": {
    "name": "ipython",
    "version": 2
   },
   "file_extension": ".py",
   "mimetype": "text/x-python",
   "name": "python",
   "nbconvert_exporter": "python",
   "pygments_lexer": "ipython2",
   "version": "2.7.6"
  }
 },
 "nbformat": 4,
 "nbformat_minor": 5
}
