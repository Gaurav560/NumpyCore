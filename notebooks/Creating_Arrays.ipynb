{
 "cells": [
  {
   "cell_type": "code",
   "id": "initial_id",
   "metadata": {
    "collapsed": true,
    "ExecuteTime": {
     "end_time": "2024-12-02T06:00:34.206977Z",
     "start_time": "2024-12-02T06:00:34.202577Z"
    }
   },
   "source": "import numpy as np",
   "outputs": [],
   "execution_count": 70
  },
  {
   "metadata": {
    "ExecuteTime": {
     "end_time": "2024-12-02T06:00:34.340437Z",
     "start_time": "2024-12-02T06:00:34.332122Z"
    }
   },
   "cell_type": "code",
   "source": [
    "# with np.zeros()\n",
    "#by default it creates array of float type but if we specify dtype=int, it creates an array of int type.\n",
    "# one-dimensional i,e, vector and z in naming indicates zero.\n",
    "z_vec=np.zeros(5,dtype=int)\n",
    "z_vec"
   ],
   "id": "d6360b7d0a89d9aa",
   "outputs": [
    {
     "data": {
      "text/plain": [
       "array([0, 0, 0, 0, 0])"
      ]
     },
     "execution_count": 71,
     "metadata": {},
     "output_type": "execute_result"
    }
   ],
   "execution_count": 71
  },
  {
   "metadata": {
    "ExecuteTime": {
     "end_time": "2024-12-02T06:00:34.422155Z",
     "start_time": "2024-12-02T06:00:34.390504Z"
    }
   },
   "cell_type": "code",
   "source": [
    "#2-d array\n",
    "z_mat=np.zeros((5,5))\n",
    "z_mat"
   ],
   "id": "b5e0c5d8bc2c4aa7",
   "outputs": [
    {
     "data": {
      "text/plain": [
       "array([[0., 0., 0., 0., 0.],\n",
       "       [0., 0., 0., 0., 0.],\n",
       "       [0., 0., 0., 0., 0.],\n",
       "       [0., 0., 0., 0., 0.],\n",
       "       [0., 0., 0., 0., 0.]])"
      ]
     },
     "execution_count": 72,
     "metadata": {},
     "output_type": "execute_result"
    }
   ],
   "execution_count": 72
  },
  {
   "metadata": {
    "ExecuteTime": {
     "end_time": "2024-12-02T06:00:34.581856Z",
     "start_time": "2024-12-02T06:00:34.568012Z"
    }
   },
   "cell_type": "code",
   "source": "z_mat.shape",
   "id": "369dc38a583ee041",
   "outputs": [
    {
     "data": {
      "text/plain": [
       "(5, 5)"
      ]
     },
     "execution_count": 73,
     "metadata": {},
     "output_type": "execute_result"
    }
   ],
   "execution_count": 73
  },
  {
   "metadata": {
    "ExecuteTime": {
     "end_time": "2024-12-02T06:00:34.731901Z",
     "start_time": "2024-12-02T06:00:34.724557Z"
    }
   },
   "cell_type": "code",
   "source": [
    "# for dimension\n",
    "z_mat.ndim"
   ],
   "id": "439789e515ff3b3",
   "outputs": [
    {
     "data": {
      "text/plain": [
       "2"
      ]
     },
     "execution_count": 74,
     "metadata": {},
     "output_type": "execute_result"
    }
   ],
   "execution_count": 74
  },
  {
   "metadata": {
    "ExecuteTime": {
     "end_time": "2024-12-02T06:00:34.861791Z",
     "start_time": "2024-12-02T06:00:34.854456Z"
    }
   },
   "cell_type": "code",
   "source": [
    "#for size-no of elements in an array is size of an element\n",
    "z_mat.size"
   ],
   "id": "165dfcdaab7a1c49",
   "outputs": [
    {
     "data": {
      "text/plain": [
       "25"
      ]
     },
     "execution_count": 75,
     "metadata": {},
     "output_type": "execute_result"
    }
   ],
   "execution_count": 75
  },
  {
   "metadata": {
    "ExecuteTime": {
     "end_time": "2024-12-02T06:00:34.902096Z",
     "start_time": "2024-12-02T06:00:34.897390Z"
    }
   },
   "cell_type": "code",
   "source": "#rank-no of dimensions of an array",
   "id": "18a1b8e0f410f02b",
   "outputs": [],
   "execution_count": 76
  },
  {
   "metadata": {
    "ExecuteTime": {
     "end_time": "2024-12-02T06:00:34.963457Z",
     "start_time": "2024-12-02T06:00:34.954350Z"
    }
   },
   "cell_type": "code",
   "source": [
    "#creating an array with rank 3 i.e, 3-dimensional array having dimension length (3,4,5)\n",
    "#A 3D NumPy array can be thought of as a cube or a stack of 2D arrays (matrices). It has three axes:\n",
    "\n",
    "#Axis 0: depth (number of 2D arrays stacked)\n",
    "#Axis 1: rows in each 2D array\n",
    "#Axis 2: columns in each 2D array\n",
    "\n",
    "z_arr=np.zeros((3,4,5))"
   ],
   "id": "739bfbdbba429bbc",
   "outputs": [],
   "execution_count": 77
  },
  {
   "metadata": {
    "ExecuteTime": {
     "end_time": "2024-12-02T06:00:34.990623Z",
     "start_time": "2024-12-02T06:00:34.982654Z"
    }
   },
   "cell_type": "code",
   "source": "z_arr",
   "id": "f82a1a2a35feb86a",
   "outputs": [
    {
     "data": {
      "text/plain": [
       "array([[[0., 0., 0., 0., 0.],\n",
       "        [0., 0., 0., 0., 0.],\n",
       "        [0., 0., 0., 0., 0.],\n",
       "        [0., 0., 0., 0., 0.]],\n",
       "\n",
       "       [[0., 0., 0., 0., 0.],\n",
       "        [0., 0., 0., 0., 0.],\n",
       "        [0., 0., 0., 0., 0.],\n",
       "        [0., 0., 0., 0., 0.]],\n",
       "\n",
       "       [[0., 0., 0., 0., 0.],\n",
       "        [0., 0., 0., 0., 0.],\n",
       "        [0., 0., 0., 0., 0.],\n",
       "        [0., 0., 0., 0., 0.]]])"
      ]
     },
     "execution_count": 78,
     "metadata": {},
     "output_type": "execute_result"
    }
   ],
   "execution_count": 78
  },
  {
   "metadata": {
    "ExecuteTime": {
     "end_time": "2024-12-02T06:00:35.029570Z",
     "start_time": "2024-12-02T06:00:35.023230Z"
    }
   },
   "cell_type": "code",
   "source": [
    "#Array-type: numpy array have type i.e, ndarray\n",
    "type(z_arr)"
   ],
   "id": "4af307c300ec66f7",
   "outputs": [
    {
     "data": {
      "text/plain": [
       "numpy.ndarray"
      ]
     },
     "execution_count": 79,
     "metadata": {},
     "output_type": "execute_result"
    }
   ],
   "execution_count": 79
  },
  {
   "metadata": {
    "ExecuteTime": {
     "end_time": "2024-12-02T06:00:35.075883Z",
     "start_time": "2024-12-02T06:00:35.068801Z"
    }
   },
   "cell_type": "code",
   "source": [
    "#Creating Numpy array using np.ones()\n",
    "# one- dimensional  i.e, vector and o in the naming represents one\n",
    "o_vec=np.ones(5)\n",
    "o_vec"
   ],
   "id": "8ded17193120f29b",
   "outputs": [
    {
     "data": {
      "text/plain": [
       "array([1., 1., 1., 1., 1.])"
      ]
     },
     "execution_count": 80,
     "metadata": {},
     "output_type": "execute_result"
    }
   ],
   "execution_count": 80
  },
  {
   "metadata": {
    "ExecuteTime": {
     "end_time": "2024-12-02T06:00:35.122915Z",
     "start_time": "2024-12-02T06:00:35.115186Z"
    }
   },
   "cell_type": "code",
   "source": [
    "#two- dimensional i.e, matrix\n",
    "o_mat=np.ones((5,5))\n",
    "o_mat"
   ],
   "id": "7882e53911734b5",
   "outputs": [
    {
     "data": {
      "text/plain": [
       "array([[1., 1., 1., 1., 1.],\n",
       "       [1., 1., 1., 1., 1.],\n",
       "       [1., 1., 1., 1., 1.],\n",
       "       [1., 1., 1., 1., 1.],\n",
       "       [1., 1., 1., 1., 1.]])"
      ]
     },
     "execution_count": 81,
     "metadata": {},
     "output_type": "execute_result"
    }
   ],
   "execution_count": 81
  },
  {
   "metadata": {
    "ExecuteTime": {
     "end_time": "2024-12-02T06:03:05.353633Z",
     "start_time": "2024-12-02T06:03:05.319658Z"
    }
   },
   "cell_type": "code",
   "source": [
    "# Creating numpy array using np.full with a specific value\n",
    "f_arr=np.full((3,3),2)\n"
   ],
   "id": "a8167b589284c2c",
   "outputs": [],
   "execution_count": 85
  },
  {
   "metadata": {
    "ExecuteTime": {
     "end_time": "2024-12-02T06:02:00.737720Z",
     "start_time": "2024-12-02T06:02:00.729618Z"
    }
   },
   "cell_type": "code",
   "source": "f_arr",
   "id": "10551eb364332663",
   "outputs": [
    {
     "data": {
      "text/plain": [
       "array([[2, 2, 2],\n",
       "       [2, 2, 2],\n",
       "       [2, 2, 2]])"
      ]
     },
     "execution_count": 84,
     "metadata": {},
     "output_type": "execute_result"
    }
   ],
   "execution_count": 84
  },
  {
   "metadata": {
    "ExecuteTime": {
     "end_time": "2024-12-02T06:16:25.408634Z",
     "start_time": "2024-12-02T06:16:25.399757Z"
    }
   },
   "cell_type": "code",
   "source": [
    "f_mat=np.full((4,5),np.sqrt(5))\n",
    "f_mat"
   ],
   "id": "1c184ad7e858cfb1",
   "outputs": [
    {
     "data": {
      "text/plain": [
       "array([[2.23606798, 2.23606798, 2.23606798, 2.23606798, 2.23606798],\n",
       "       [2.23606798, 2.23606798, 2.23606798, 2.23606798, 2.23606798],\n",
       "       [2.23606798, 2.23606798, 2.23606798, 2.23606798, 2.23606798],\n",
       "       [2.23606798, 2.23606798, 2.23606798, 2.23606798, 2.23606798]])"
      ]
     },
     "execution_count": 88,
     "metadata": {},
     "output_type": "execute_result"
    }
   ],
   "execution_count": 88
  },
  {
   "metadata": {
    "ExecuteTime": {
     "end_time": "2024-12-02T06:17:19.544441Z",
     "start_time": "2024-12-02T06:17:19.510288Z"
    }
   },
   "cell_type": "code",
   "source": [
    "#Creating array using : np.empty\n",
    "#An uninitialized 2x3 array (its content is not predictable, as it is whatever is in memory at that point):\n",
    "\n",
    "e_mat=np.empty((2,3))\n",
    "e_mat"
   ],
   "id": "5f34d0f95fab654d",
   "outputs": [
    {
     "data": {
      "text/plain": [
       "array([[6.23042070e-307, 4.67296746e-307, 1.69121096e-306],\n",
       "       [1.24610994e-306, 9.34605037e-307, 1.05699581e-307]])"
      ]
     },
     "execution_count": 90,
     "metadata": {},
     "output_type": "execute_result"
    }
   ],
   "execution_count": 90
  },
  {
   "metadata": {
    "ExecuteTime": {
     "end_time": "2024-12-02T06:24:18.307016Z",
     "start_time": "2024-12-02T06:24:18.291804Z"
    }
   },
   "cell_type": "code",
   "source": [
    "#Initializing a numpy array using a regular python list by calling the array function\n",
    "np.array([[1,2,3,4],[5,6,7,8]])"
   ],
   "id": "ee7cdbee4b405a50",
   "outputs": [
    {
     "data": {
      "text/plain": [
       "array([[1, 2, 3, 4],\n",
       "       [5, 6, 7, 8]])"
      ]
     },
     "execution_count": 93,
     "metadata": {},
     "output_type": "execute_result"
    }
   ],
   "execution_count": 93
  },
  {
   "metadata": {
    "ExecuteTime": {
     "end_time": "2024-12-02T06:26:01.905925Z",
     "start_time": "2024-12-02T06:26:01.897849Z"
    }
   },
   "cell_type": "code",
   "source": [
    "# Creating an array using np.arange(). \n",
    "#np.arange() creates a NumPy array with evenly spaced values within a specified interval. It's similar to Python's range() but returns a NumPy array instead of a range object.\n",
    "# and you can also provide a step parameter.\n",
    "\n",
    "np.arange(2,6)"
   ],
   "id": "72098a9737eb6bb0",
   "outputs": [
    {
     "data": {
      "text/plain": [
       "array([2, 3, 4, 5])"
      ]
     },
     "execution_count": 95,
     "metadata": {},
     "output_type": "execute_result"
    }
   ],
   "execution_count": 95
  },
  {
   "metadata": {
    "ExecuteTime": {
     "end_time": "2024-12-02T06:39:04.586122Z",
     "start_time": "2024-12-02T06:39:04.522383Z"
    }
   },
   "cell_type": "code",
   "source": [
    "#using float values and step parameter: 2\n",
    "np.arange(11.0,18.5,2)"
   ],
   "id": "73580b860d789d90",
   "outputs": [
    {
     "data": {
      "text/plain": [
       "array([11., 13., 15., 17.])"
      ]
     },
     "execution_count": 98,
     "metadata": {},
     "output_type": "execute_result"
    }
   ],
   "execution_count": 98
  },
  {
   "metadata": {},
   "cell_type": "code",
   "outputs": [],
   "execution_count": null,
   "source": "",
   "id": "1efe0c13ebc8cb82"
  }
 ],
 "metadata": {
  "kernelspec": {
   "display_name": "Python 3",
   "language": "python",
   "name": "python3"
  },
  "language_info": {
   "codemirror_mode": {
    "name": "ipython",
    "version": 2
   },
   "file_extension": ".py",
   "mimetype": "text/x-python",
   "name": "python",
   "nbconvert_exporter": "python",
   "pygments_lexer": "ipython2",
   "version": "2.7.6"
  }
 },
 "nbformat": 4,
 "nbformat_minor": 5
}
