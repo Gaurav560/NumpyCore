{
 "cells": [
  {
   "metadata": {},
   "cell_type": "markdown",
   "source": [
    "# Indexing of One-dimensional arrays\n",
    "##### One-dimensional NumPy arrays can be accessed more or less like regular python arrays:"
   ],
   "id": "a2028e8634c52792"
  },
  {
   "metadata": {
    "ExecuteTime": {
     "end_time": "2024-12-13T09:23:48.111488Z",
     "start_time": "2024-12-13T09:23:48.109142Z"
    }
   },
   "cell_type": "code",
   "source": [
    "import numpy as np\n",
    "arr_1=np.array([6,7,8,9,10,11,12])\n",
    "arr_1[5]"
   ],
   "id": "8aacd141781a7a29",
   "outputs": [
    {
     "data": {
      "text/plain": [
       "np.int64(11)"
      ]
     },
     "execution_count": 169,
     "metadata": {},
     "output_type": "execute_result"
    }
   ],
   "execution_count": 169
  },
  {
   "metadata": {
    "ExecuteTime": {
     "end_time": "2024-12-13T09:23:48.126465Z",
     "start_time": "2024-12-13T09:23:48.124180Z"
    }
   },
   "cell_type": "code",
   "source": [
    "# here the last index i.e, 6 is excluded\n",
    "arr_1[2:6]"
   ],
   "id": "226956ef54ff23dd",
   "outputs": [
    {
     "data": {
      "text/plain": [
       "array([ 8,  9, 10, 11])"
      ]
     },
     "execution_count": 170,
     "metadata": {},
     "output_type": "execute_result"
    }
   ],
   "execution_count": 170
  },
  {
   "metadata": {},
   "cell_type": "markdown",
   "source": "",
   "id": "4db173935b5b5abc"
  },
  {
   "metadata": {
    "ExecuteTime": {
     "end_time": "2024-12-13T09:23:48.139994Z",
     "start_time": "2024-12-13T09:23:48.137453Z"
    }
   },
   "cell_type": "code",
   "source": [
    "# -1 index belongs to the last element in the array\n",
    "arr_1[4:-1]"
   ],
   "id": "ea7166f1ebaa2dc2",
   "outputs": [
    {
     "data": {
      "text/plain": [
       "array([10, 11])"
      ]
     },
     "execution_count": 171,
     "metadata": {},
     "output_type": "execute_result"
    }
   ],
   "execution_count": 171
  },
  {
   "metadata": {
    "ExecuteTime": {
     "end_time": "2024-12-13T09:23:48.153542Z",
     "start_time": "2024-12-13T09:23:48.151392Z"
    }
   },
   "cell_type": "code",
   "source": [
    "#advanced slicing\n",
    "#The double colons :: in slicing, such as arr_1[2::2], indicate advanced slicing in Python, where you specify the start(inclusive), stop(exclusive), and step values for slicing an array or list.\n",
    "#array[start:stop:step]\n",
    "# if stop is emitted, it defaults to the end of the array.\n",
    "arr_1[3::2]"
   ],
   "id": "6f3ce8451321ea54",
   "outputs": [
    {
     "data": {
      "text/plain": [
       "array([ 9, 11])"
      ]
     },
     "execution_count": 172,
     "metadata": {},
     "output_type": "execute_result"
    }
   ],
   "execution_count": 172
  },
  {
   "metadata": {
    "ExecuteTime": {
     "end_time": "2024-12-13T09:23:48.167183Z",
     "start_time": "2024-12-13T09:23:48.164667Z"
    }
   },
   "cell_type": "code",
   "source": [
    "# start: Omitted, so it defaults to the beginning of the array.\n",
    "# stop: Omitted, so it defaults to the end of the array.\n",
    "# step=-1: A negative step indicates moving through the array in reverse order.\n",
    "#These operation does not modify the original array; it returns a new reversed array.\n",
    "arr_1[::-1]"
   ],
   "id": "9305efd6a4732480",
   "outputs": [
    {
     "data": {
      "text/plain": [
       "array([12, 11, 10,  9,  8,  7,  6])"
      ]
     },
     "execution_count": 173,
     "metadata": {},
     "output_type": "execute_result"
    }
   ],
   "execution_count": 173
  },
  {
   "metadata": {
    "ExecuteTime": {
     "end_time": "2024-12-13T09:23:48.182565Z",
     "start_time": "2024-12-13T09:23:48.180106Z"
    }
   },
   "cell_type": "code",
   "source": [
    "# modifying array elements\n",
    "#4th index element is modified\n",
    "arr_1[4]=56\n",
    "arr_1"
   ],
   "id": "954d5f5e381ec620",
   "outputs": [
    {
     "data": {
      "text/plain": [
       "array([ 6,  7,  8,  9, 56, 11, 12])"
      ]
     },
     "execution_count": 174,
     "metadata": {},
     "output_type": "execute_result"
    }
   ],
   "execution_count": 174
  },
  {
   "metadata": {
    "ExecuteTime": {
     "end_time": "2024-12-13T09:23:48.257068Z",
     "start_time": "2024-12-13T09:23:48.254196Z"
    }
   },
   "cell_type": "code",
   "source": [
    "# modifying a slice of an array\n",
    "arr_1[5:7]=[55,99]\n",
    "arr_1"
   ],
   "id": "b823fcf286cd425f",
   "outputs": [
    {
     "data": {
      "text/plain": [
       "array([ 6,  7,  8,  9, 56, 55, 99])"
      ]
     },
     "execution_count": 175,
     "metadata": {},
     "output_type": "execute_result"
    }
   ],
   "execution_count": 175
  },
  {
   "metadata": {
    "ExecuteTime": {
     "end_time": "2024-12-13T09:23:48.283784Z",
     "start_time": "2024-12-13T09:23:48.282413Z"
    }
   },
   "cell_type": "code",
   "source": "",
   "id": "c6da46b987f158c",
   "outputs": [],
   "execution_count": null
  },
  {
   "metadata": {},
   "cell_type": "markdown",
   "source": "## Differences with regular python arrays",
   "id": "3e700011f4efb513"
  },
  {
   "metadata": {
    "ExecuteTime": {
     "end_time": "2024-12-13T09:39:03.051808Z",
     "start_time": "2024-12-13T09:39:03.049016Z"
    }
   },
   "cell_type": "code",
   "source": [
    "#Contrary to regular python arrays, if you assign a single value to an ndarray slice, it is copied across the whole slice, thanks to broadcasting.\n",
    "print(f\"before modifying the array: {arr_1}\")\n",
    "arr_1[2:5]=-4\n",
    "print(f\"after modifying the array: {arr_1}\")"
   ],
   "id": "f95a5a8d0c7a48f8",
   "outputs": [
    {
     "name": "stdout",
     "output_type": "stream",
     "text": [
      "before modifying the array: [ 6  7 -4 -4 -4 55 99]\n",
      "after modifying the array: [ 6  7 -4 -4 -4 55 99]\n"
     ]
    }
   ],
   "execution_count": 180
  },
  {
   "metadata": {
    "ExecuteTime": {
     "end_time": "2024-12-13T09:46:19.769820Z",
     "start_time": "2024-12-13T09:46:19.766187Z"
    }
   },
   "cell_type": "code",
   "source": [
    "#Also, you cannot grow or shrink ndarrays this way:\n",
    "try:\n",
    "    arr_1[2:5] = [1,2,3,4,5,6]  # too long\n",
    "except ValueError as e:\n",
    "    print(e)"
   ],
   "id": "77facff1cb0b1b3d",
   "outputs": [
    {
     "name": "stdout",
     "output_type": "stream",
     "text": [
      "could not broadcast input array from shape (6,) into shape (3,)\n"
     ]
    }
   ],
   "execution_count": 181
  },
  {
   "metadata": {
    "ExecuteTime": {
     "end_time": "2024-12-13T09:46:53.225767Z",
     "start_time": "2024-12-13T09:46:53.222716Z"
    }
   },
   "cell_type": "code",
   "source": [
    "#Also, you cannot grow or shrink ndarrays this way:\n",
    "try:\n",
    "    arr_1[2:5] = [1,2]  # too short\n",
    "except ValueError as e:\n",
    "    print(e)"
   ],
   "id": "5dad432592862a7b",
   "outputs": [
    {
     "name": "stdout",
     "output_type": "stream",
     "text": [
      "could not broadcast input array from shape (2,) into shape (3,)\n"
     ]
    }
   ],
   "execution_count": 182
  },
  {
   "metadata": {
    "ExecuteTime": {
     "end_time": "2024-12-13T09:49:28.121832Z",
     "start_time": "2024-12-13T09:49:28.119675Z"
    }
   },
   "cell_type": "code",
   "source": [
    "#cannot delete elements either:\n",
    "try:\n",
    "    del arr_1[3:6]\n",
    "except ValueError as e:\n",
    "    print(e)"
   ],
   "id": "24c66664e47b8250",
   "outputs": [
    {
     "name": "stdout",
     "output_type": "stream",
     "text": [
      "cannot delete array elements\n"
     ]
    }
   ],
   "execution_count": 183
  },
  {
   "metadata": {
    "ExecuteTime": {
     "end_time": "2024-12-13T09:50:40.732627Z",
     "start_time": "2024-12-13T09:50:40.730175Z"
    }
   },
   "cell_type": "code",
   "source": [
    "#Important:  ndarray slices are actually views on the same data buffer. This means that if you create a slice and modify it, you are actually going to modify the original ndarray as well!\n",
    "arr_1_slice=arr_1[3:6]\n",
    "arr_1_slice"
   ],
   "id": "2175719fbcc1923c",
   "outputs": [
    {
     "data": {
      "text/plain": [
       "array([-4, -4, 55])"
      ]
     },
     "execution_count": 184,
     "metadata": {},
     "output_type": "execute_result"
    }
   ],
   "execution_count": 184
  },
  {
   "metadata": {
    "ExecuteTime": {
     "end_time": "2024-12-13T09:51:37.772937Z",
     "start_time": "2024-12-13T09:51:37.768633Z"
    }
   },
   "cell_type": "code",
   "source": [
    "#modified the sliced array\n",
    "arr_1_slice[2]=1099\n",
    "arr_1_slice"
   ],
   "id": "99d4e0d75058c2c4",
   "outputs": [
    {
     "data": {
      "text/plain": [
       "array([  -4,   -4, 1099])"
      ]
     },
     "execution_count": 186,
     "metadata": {},
     "output_type": "execute_result"
    }
   ],
   "execution_count": 186
  },
  {
   "metadata": {
    "ExecuteTime": {
     "end_time": "2024-12-13T09:52:27.946125Z",
     "start_time": "2024-12-13T09:52:27.942420Z"
    }
   },
   "cell_type": "code",
   "source": [
    "#checking whether the sliced array modified the actual array\n",
    "arr_1\n",
    "#yup, it is modified."
   ],
   "id": "363bce12ff4d8152",
   "outputs": [
    {
     "data": {
      "text/plain": [
       "array([   6,    7,   -4,   -4,   -4, 1099,   99])"
      ]
     },
     "execution_count": 187,
     "metadata": {},
     "output_type": "execute_result"
    }
   ],
   "execution_count": 187
  },
  {
   "metadata": {
    "ExecuteTime": {
     "end_time": "2024-12-13T09:53:29.588286Z",
     "start_time": "2024-12-13T09:53:29.585898Z"
    }
   },
   "cell_type": "code",
   "source": [
    "#similarly, modifying the actual array modifies the sliced array.\n",
    "arr_1[5]=1098\n",
    "arr_1"
   ],
   "id": "f85bbab6afc5225e",
   "outputs": [
    {
     "data": {
      "text/plain": [
       "array([   6,    7,   -4,   -4,   -4, 1098,   99])"
      ]
     },
     "execution_count": 188,
     "metadata": {},
     "output_type": "execute_result"
    }
   ],
   "execution_count": 188
  },
  {
   "metadata": {
    "ExecuteTime": {
     "end_time": "2024-12-13T09:55:03.164540Z",
     "start_time": "2024-12-13T09:55:03.160874Z"
    }
   },
   "cell_type": "code",
   "source": [
    "#checking if the sliced array is modified or not. changed from 1099 to 1098\n",
    "arr_1_slice\n",
    "#yup , it is modified."
   ],
   "id": "3507e4a7c61d9fb7",
   "outputs": [
    {
     "data": {
      "text/plain": [
       "array([  -4,   -4, 1098])"
      ]
     },
     "execution_count": 191,
     "metadata": {},
     "output_type": "execute_result"
    }
   ],
   "execution_count": 191
  },
  {
   "metadata": {
    "ExecuteTime": {
     "end_time": "2024-12-13T09:56:53.232652Z",
     "start_time": "2024-12-13T09:56:53.230125Z"
    }
   },
   "cell_type": "code",
   "source": [
    "#If you want a copy of the array data, you need to use the copy method:\n",
    "arr_1_copy=arr_1.copy()\n",
    "arr_1_copy"
   ],
   "id": "173989f2a13177ce",
   "outputs": [
    {
     "data": {
      "text/plain": [
       "array([   6,    7,   -4,   -4,   -4, 1098,   99])"
      ]
     },
     "execution_count": 193,
     "metadata": {},
     "output_type": "execute_result"
    }
   ],
   "execution_count": 193
  },
  {
   "metadata": {
    "ExecuteTime": {
     "end_time": "2024-12-13T09:57:10.918158Z",
     "start_time": "2024-12-13T09:57:10.914369Z"
    }
   },
   "cell_type": "code",
   "source": [
    "arr_1_copy[5]=666\n",
    "arr_1_copy"
   ],
   "id": "2c138fb93834009b",
   "outputs": [
    {
     "data": {
      "text/plain": [
       "array([  6,   7,  -4,  -4,  -4, 666,  99])"
      ]
     },
     "execution_count": 195,
     "metadata": {},
     "output_type": "execute_result"
    }
   ],
   "execution_count": 195
  },
  {
   "metadata": {
    "ExecuteTime": {
     "end_time": "2024-12-13T09:58:10.187957Z",
     "start_time": "2024-12-13T09:58:10.185120Z"
    }
   },
   "cell_type": "code",
   "source": [
    "#you can see, changing the copied array does not change the original array\n",
    "arr_1"
   ],
   "id": "4df5db7d9b78b1b2",
   "outputs": [
    {
     "data": {
      "text/plain": [
       "array([   6,    7,   -4,   -4,   -4, 1098,   99])"
      ]
     },
     "execution_count": 197,
     "metadata": {},
     "output_type": "execute_result"
    }
   ],
   "execution_count": 197
  },
  {
   "metadata": {},
   "cell_type": "code",
   "outputs": [],
   "execution_count": null,
   "source": "",
   "id": "510ace81e5ab24d7"
  }
 ],
 "metadata": {
  "kernelspec": {
   "display_name": "Python 3",
   "language": "python",
   "name": "python3"
  },
  "language_info": {
   "codemirror_mode": {
    "name": "ipython",
    "version": 2
   },
   "file_extension": ".py",
   "mimetype": "text/x-python",
   "name": "python",
   "nbconvert_exporter": "python",
   "pygments_lexer": "ipython2",
   "version": "2.7.6"
  }
 },
 "nbformat": 4,
 "nbformat_minor": 5
}
