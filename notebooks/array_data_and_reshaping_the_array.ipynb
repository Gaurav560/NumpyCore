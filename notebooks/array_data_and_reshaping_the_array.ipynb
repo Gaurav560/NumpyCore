{
 "cells": [
  {
   "metadata": {},
   "cell_type": "markdown",
   "source": "# 1. Array data",
   "id": "c9c19ee8f463bec1"
  },
  {
   "metadata": {
    "ExecuteTime": {
     "end_time": "2024-12-09T08:34:21.300621Z",
     "start_time": "2024-12-09T08:34:21.298458Z"
    }
   },
   "cell_type": "code",
   "source": [
    "import numpy as np\n",
    "np_array=np.array([1,2,3,4,5])"
   ],
   "id": "106885ae43f7bb4",
   "outputs": [],
   "execution_count": 159
  },
  {
   "metadata": {
    "ExecuteTime": {
     "end_time": "2024-12-09T08:34:21.313559Z",
     "start_time": "2024-12-09T08:34:21.311165Z"
    }
   },
   "cell_type": "code",
   "source": "np_array.dtype",
   "id": "43e3eb06217d9d92",
   "outputs": [
    {
     "data": {
      "text/plain": [
       "dtype('int64')"
      ]
     },
     "execution_count": 160,
     "metadata": {},
     "output_type": "execute_result"
    }
   ],
   "execution_count": 160
  },
  {
   "metadata": {
    "ExecuteTime": {
     "end_time": "2024-12-09T08:34:21.338120Z",
     "start_time": "2024-12-09T08:34:21.335530Z"
    }
   },
   "cell_type": "code",
   "source": [
    "# setting the data type\n",
    "np_array=np.array([1,2,3,4,5],dtype=float)\n",
    "np_array.dtype"
   ],
   "id": "c306891f5f7817ba",
   "outputs": [
    {
     "data": {
      "text/plain": [
       "dtype('float64')"
      ]
     },
     "execution_count": 161,
     "metadata": {},
     "output_type": "execute_result"
    }
   ],
   "execution_count": 161
  },
  {
   "metadata": {
    "ExecuteTime": {
     "end_time": "2024-12-09T08:34:21.357624Z",
     "start_time": "2024-12-09T08:34:21.355458Z"
    }
   },
   "cell_type": "code",
   "source": [
    "# checking the item size\n",
    "#The itemsize attribute of a NumPy array returns the size (in bytes) of each element in the array.\n",
    "np_array.itemsize"
   ],
   "id": "7ef1a59ede97d559",
   "outputs": [
    {
     "data": {
      "text/plain": [
       "8"
      ]
     },
     "execution_count": 162,
     "metadata": {},
     "output_type": "execute_result"
    }
   ],
   "execution_count": 162
  },
  {
   "metadata": {},
   "cell_type": "markdown",
   "source": "# 2.  Reshaping an Array.",
   "id": "ad45160389190bc0"
  },
  {
   "metadata": {},
   "cell_type": "markdown",
   "source": [
    "## 2.1 In place\n",
    "#### The shape attribute in NumPy is used to get or set the dimensions of a NumPy array. In-place manipulation of the shape attribute refers to directly modifying the shape of an array using assignment (=), which alters the array’s dimensions without creating a new array."
   ],
   "id": "7fde7946d1960bf4"
  },
  {
   "metadata": {
    "ExecuteTime": {
     "end_time": "2024-12-09T08:34:21.378637Z",
     "start_time": "2024-12-09T08:34:21.376342Z"
    }
   },
   "cell_type": "code",
   "source": [
    "\n",
    "np_array=np.arange(30)\n",
    "np_array"
   ],
   "id": "88bc3a4fb0974941",
   "outputs": [
    {
     "data": {
      "text/plain": [
       "array([ 0,  1,  2,  3,  4,  5,  6,  7,  8,  9, 10, 11, 12, 13, 14, 15, 16,\n",
       "       17, 18, 19, 20, 21, 22, 23, 24, 25, 26, 27, 28, 29])"
      ]
     },
     "execution_count": 163,
     "metadata": {},
     "output_type": "execute_result"
    }
   ],
   "execution_count": 163
  },
  {
   "metadata": {
    "ExecuteTime": {
     "end_time": "2024-12-09T08:34:21.402476Z",
     "start_time": "2024-12-09T08:34:21.400385Z"
    }
   },
   "cell_type": "code",
   "source": [
    "#changing the shape of the array. only one condition: the size of the array must remain the same.\n",
    "np_array.shape=(6,5)\n",
    "np_array"
   ],
   "id": "6c66b98d4117ccb5",
   "outputs": [
    {
     "data": {
      "text/plain": [
       "array([[ 0,  1,  2,  3,  4],\n",
       "       [ 5,  6,  7,  8,  9],\n",
       "       [10, 11, 12, 13, 14],\n",
       "       [15, 16, 17, 18, 19],\n",
       "       [20, 21, 22, 23, 24],\n",
       "       [25, 26, 27, 28, 29]])"
      ]
     },
     "execution_count": 164,
     "metadata": {},
     "output_type": "execute_result"
    }
   ],
   "execution_count": 164
  },
  {
   "metadata": {
    "ExecuteTime": {
     "end_time": "2024-12-09T08:34:21.433592Z",
     "start_time": "2024-12-09T08:34:21.431263Z"
    }
   },
   "cell_type": "code",
   "source": [
    "# checking the dimension of the array using ndim attribute\n",
    "np_array.ndim"
   ],
   "id": "fc1ad27f1b2fd4aa",
   "outputs": [
    {
     "data": {
      "text/plain": [
       "2"
      ]
     },
     "execution_count": 165,
     "metadata": {},
     "output_type": "execute_result"
    }
   ],
   "execution_count": 165
  },
  {
   "metadata": {
    "ExecuteTime": {
     "end_time": "2024-12-09T08:34:21.460977Z",
     "start_time": "2024-12-09T08:34:21.458725Z"
    }
   },
   "cell_type": "code",
   "source": [
    "# If a NumPy array has its shape set to (5, 2, 3), it means the array has three dimensions, where:\n",
    "# 5: The array has 5 blocks (the first dimension).\n",
    "# 2: Each block contains 2 rows (the second dimension).\n",
    "# 3: Each row contains 3 columns (the third dimension).\n",
    "\n",
    "\n",
    "# reshaping again to 3-d\n",
    "np_array.shape=(5,2,3)\n",
    "np_array"
   ],
   "id": "84b23e324487bfaf",
   "outputs": [
    {
     "data": {
      "text/plain": [
       "array([[[ 0,  1,  2],\n",
       "        [ 3,  4,  5]],\n",
       "\n",
       "       [[ 6,  7,  8],\n",
       "        [ 9, 10, 11]],\n",
       "\n",
       "       [[12, 13, 14],\n",
       "        [15, 16, 17]],\n",
       "\n",
       "       [[18, 19, 20],\n",
       "        [21, 22, 23]],\n",
       "\n",
       "       [[24, 25, 26],\n",
       "        [27, 28, 29]]])"
      ]
     },
     "execution_count": 166,
     "metadata": {},
     "output_type": "execute_result"
    }
   ],
   "execution_count": 166
  },
  {
   "metadata": {
    "ExecuteTime": {
     "end_time": "2024-12-09T08:34:21.511023Z",
     "start_time": "2024-12-09T08:34:21.509124Z"
    }
   },
   "cell_type": "code",
   "source": [
    "#checking the rank. (rank refers to number of dimensions)\n",
    "np_array.ndim"
   ],
   "id": "3f7c4f6f92a40a1d",
   "outputs": [
    {
     "data": {
      "text/plain": [
       "3"
      ]
     },
     "execution_count": 167,
     "metadata": {},
     "output_type": "execute_result"
    }
   ],
   "execution_count": 167
  },
  {
   "metadata": {},
   "cell_type": "markdown",
   "source": "## 2.2 reshape() function",
   "id": "dcb214da8d06e5dc"
  },
  {
   "metadata": {},
   "cell_type": "markdown",
   "source": "#### The reshape function returns a new ndarray object pointing at the same data. This means that modifying one array will also modify the other.",
   "id": "81959649e886d62b"
  },
  {
   "metadata": {
    "ExecuteTime": {
     "end_time": "2024-12-09T08:34:21.556699Z",
     "start_time": "2024-12-09T08:34:21.554695Z"
    }
   },
   "cell_type": "code",
   "source": "np_reshape=np_array.reshape(10,3)",
   "id": "24404acb049a1d76",
   "outputs": [],
   "execution_count": 168
  },
  {
   "metadata": {
    "ExecuteTime": {
     "end_time": "2024-12-09T08:34:21.572781Z",
     "start_time": "2024-12-09T08:34:21.570461Z"
    }
   },
   "cell_type": "code",
   "source": "np_reshape",
   "id": "82e0c35d4a1bca43",
   "outputs": [
    {
     "data": {
      "text/plain": [
       "array([[ 0,  1,  2],\n",
       "       [ 3,  4,  5],\n",
       "       [ 6,  7,  8],\n",
       "       [ 9, 10, 11],\n",
       "       [12, 13, 14],\n",
       "       [15, 16, 17],\n",
       "       [18, 19, 20],\n",
       "       [21, 22, 23],\n",
       "       [24, 25, 26],\n",
       "       [27, 28, 29]])"
      ]
     },
     "execution_count": 169,
     "metadata": {},
     "output_type": "execute_result"
    }
   ],
   "execution_count": 169
  },
  {
   "metadata": {
    "ExecuteTime": {
     "end_time": "2024-12-09T08:34:21.605402Z",
     "start_time": "2024-12-09T08:34:21.603658Z"
    }
   },
   "cell_type": "code",
   "source": [
    "# Set item at row 5, col 2 to 454.\n",
    "np_reshape[5,2]=454"
   ],
   "id": "2e457d64dabac0bf",
   "outputs": [],
   "execution_count": 170
  },
  {
   "metadata": {
    "ExecuteTime": {
     "end_time": "2024-12-09T08:34:21.632903Z",
     "start_time": "2024-12-09T08:34:21.630490Z"
    }
   },
   "cell_type": "code",
   "source": "np_reshape",
   "id": "2fcec436e2e03cc",
   "outputs": [
    {
     "data": {
      "text/plain": [
       "array([[  0,   1,   2],\n",
       "       [  3,   4,   5],\n",
       "       [  6,   7,   8],\n",
       "       [  9,  10,  11],\n",
       "       [ 12,  13,  14],\n",
       "       [ 15,  16, 454],\n",
       "       [ 18,  19,  20],\n",
       "       [ 21,  22,  23],\n",
       "       [ 24,  25,  26],\n",
       "       [ 27,  28,  29]])"
      ]
     },
     "execution_count": 171,
     "metadata": {},
     "output_type": "execute_result"
    }
   ],
   "execution_count": 171
  },
  {
   "metadata": {
    "ExecuteTime": {
     "end_time": "2024-12-09T08:34:21.699394Z",
     "start_time": "2024-12-09T08:34:21.697097Z"
    }
   },
   "cell_type": "code",
   "source": [
    "# now checking if the changes have been reflected in np_array. you can check the corresponding element has been modified in this array also.\n",
    "np_array"
   ],
   "id": "1da83a87925ff084",
   "outputs": [
    {
     "data": {
      "text/plain": [
       "array([[[  0,   1,   2],\n",
       "        [  3,   4,   5]],\n",
       "\n",
       "       [[  6,   7,   8],\n",
       "        [  9,  10,  11]],\n",
       "\n",
       "       [[ 12,  13,  14],\n",
       "        [ 15,  16, 454]],\n",
       "\n",
       "       [[ 18,  19,  20],\n",
       "        [ 21,  22,  23]],\n",
       "\n",
       "       [[ 24,  25,  26],\n",
       "        [ 27,  28,  29]]])"
      ]
     },
     "execution_count": 172,
     "metadata": {},
     "output_type": "execute_result"
    }
   ],
   "execution_count": 172
  },
  {
   "metadata": {},
   "cell_type": "markdown",
   "source": "## 2.3 ravel()",
   "id": "c807599be85e5b25"
  },
  {
   "metadata": {
    "ExecuteTime": {
     "end_time": "2024-12-09T08:34:21.781824Z",
     "start_time": "2024-12-09T08:34:21.780046Z"
    }
   },
   "cell_type": "code",
   "source": [
    "# The ravel() function in NumPy returns a flattened (1D) view of the original array whenever possible. If a view is not feasible, it creates a new array.\n",
    "# we can store the view in a new array.\n",
    "np_ravel=np_array.ravel()"
   ],
   "id": "8b9494124344fb87",
   "outputs": [],
   "execution_count": 173
  },
  {
   "metadata": {
    "ExecuteTime": {
     "end_time": "2024-12-09T08:34:21.804286Z",
     "start_time": "2024-12-09T08:34:21.801806Z"
    }
   },
   "cell_type": "code",
   "source": "np_ravel",
   "id": "c581aad5b6dc38e0",
   "outputs": [
    {
     "data": {
      "text/plain": [
       "array([  0,   1,   2,   3,   4,   5,   6,   7,   8,   9,  10,  11,  12,\n",
       "        13,  14,  15,  16, 454,  18,  19,  20,  21,  22,  23,  24,  25,\n",
       "        26,  27,  28,  29])"
      ]
     },
     "execution_count": 174,
     "metadata": {},
     "output_type": "execute_result"
    }
   ],
   "execution_count": 174
  },
  {
   "metadata": {
    "ExecuteTime": {
     "end_time": "2024-12-09T08:34:21.856715Z",
     "start_time": "2024-12-09T08:34:21.855052Z"
    }
   },
   "cell_type": "code",
   "source": [
    "# note modifying the view also modifies the original array.\n",
    "np_ravel[10]=4544"
   ],
   "id": "c4824f084b1ecd3e",
   "outputs": [],
   "execution_count": 175
  },
  {
   "metadata": {
    "ExecuteTime": {
     "end_time": "2024-12-09T08:34:21.868847Z",
     "start_time": "2024-12-09T08:34:21.866623Z"
    }
   },
   "cell_type": "code",
   "source": "np_ravel",
   "id": "7402209f9a5d5c36",
   "outputs": [
    {
     "data": {
      "text/plain": [
       "array([   0,    1,    2,    3,    4,    5,    6,    7,    8,    9, 4544,\n",
       "         11,   12,   13,   14,   15,   16,  454,   18,   19,   20,   21,\n",
       "         22,   23,   24,   25,   26,   27,   28,   29])"
      ]
     },
     "execution_count": 176,
     "metadata": {},
     "output_type": "execute_result"
    }
   ],
   "execution_count": 176
  },
  {
   "metadata": {
    "ExecuteTime": {
     "end_time": "2024-12-09T08:34:21.886889Z",
     "start_time": "2024-12-09T08:34:21.884307Z"
    }
   },
   "cell_type": "code",
   "source": "np_array",
   "id": "f8544cdb3f6f402d",
   "outputs": [
    {
     "data": {
      "text/plain": [
       "array([[[   0,    1,    2],\n",
       "        [   3,    4,    5]],\n",
       "\n",
       "       [[   6,    7,    8],\n",
       "        [   9, 4544,   11]],\n",
       "\n",
       "       [[  12,   13,   14],\n",
       "        [  15,   16,  454]],\n",
       "\n",
       "       [[  18,   19,   20],\n",
       "        [  21,   22,   23]],\n",
       "\n",
       "       [[  24,   25,   26],\n",
       "        [  27,   28,   29]]])"
      ]
     },
     "execution_count": 177,
     "metadata": {},
     "output_type": "execute_result"
    }
   ],
   "execution_count": 177
  },
  {
   "metadata": {
    "ExecuteTime": {
     "end_time": "2024-12-09T08:34:21.902517Z",
     "start_time": "2024-12-09T08:34:21.901240Z"
    }
   },
   "cell_type": "code",
   "source": "",
   "id": "66564871db96a9ce",
   "outputs": [],
   "execution_count": null
  }
 ],
 "metadata": {
  "kernelspec": {
   "display_name": "Python 3",
   "language": "python",
   "name": "python3"
  },
  "language_info": {
   "codemirror_mode": {
    "name": "ipython",
    "version": 2
   },
   "file_extension": ".py",
   "mimetype": "text/x-python",
   "name": "python",
   "nbconvert_exporter": "python",
   "pygments_lexer": "ipython2",
   "version": "2.7.6"
  }
 },
 "nbformat": 4,
 "nbformat_minor": 5
}
